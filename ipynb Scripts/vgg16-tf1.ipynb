{
 "cells": [
  {
   "cell_type": "code",
   "execution_count": 1,
   "id": "cc55ccc6",
   "metadata": {
    "_cell_guid": "b1076dfc-b9ad-4769-8c92-a6c4dae69d19",
    "_uuid": "8f2839f25d086af736a60e9eeb907d3b93b6e0e5",
    "execution": {
     "iopub.execute_input": "2023-04-09T04:16:21.555008Z",
     "iopub.status.busy": "2023-04-09T04:16:21.554537Z",
     "iopub.status.idle": "2023-04-09T04:16:30.728963Z",
     "shell.execute_reply": "2023-04-09T04:16:30.727821Z"
    },
    "id": "AGQtOeHMONME",
    "papermill": {
     "duration": 9.186659,
     "end_time": "2023-04-09T04:16:30.732037",
     "exception": false,
     "start_time": "2023-04-09T04:16:21.545378",
     "status": "completed"
    },
    "tags": []
   },
   "outputs": [],
   "source": [
    "import pandas as pd\n",
    "from tensorflow.keras.models import Sequential\n",
    "from tensorflow.keras.layers import Dense\n",
    "from sklearn.model_selection import cross_val_score\n",
    "from sklearn.preprocessing import LabelEncoder\n",
    "from sklearn.model_selection import StratifiedKFold\n",
    "from sklearn.preprocessing import StandardScaler\n",
    "from sklearn.pipeline import Pipeline\n",
    "import pandas as pd\n",
    "import numpy as np\n",
    "import matplotlib.pyplot as plt\n",
    "import seaborn as sns\n",
    "from sklearn.model_selection import train_test_split\n",
    "from sklearn.metrics import confusion_matrix\n",
    "import keras\n",
    "from keras.models import Sequential\n",
    "from keras.layers import Conv2D, Lambda, MaxPooling2D # convolution layers\n",
    "from keras.layers import Dense, Dropout, Flatten # core layers\n",
    "from keras.layers import BatchNormalization\n",
    "from keras.preprocessing.image import ImageDataGenerator\n",
    "from keras.utils.np_utils import to_categorical\n"
   ]
  },
  {
   "cell_type": "code",
   "execution_count": null,
   "id": "2bdc1c9b",
   "metadata": {
    "id": "Cb_UyciHO2BP",
    "papermill": {
     "duration": 0.006197,
     "end_time": "2023-04-09T04:16:30.744987",
     "exception": false,
     "start_time": "2023-04-09T04:16:30.738790",
     "status": "completed"
    },
    "tags": []
   },
   "outputs": [],
   "source": []
  },
  {
   "cell_type": "code",
   "execution_count": 2,
   "id": "7e2f443e",
   "metadata": {
    "execution": {
     "iopub.execute_input": "2023-04-09T04:16:30.759813Z",
     "iopub.status.busy": "2023-04-09T04:16:30.759211Z",
     "iopub.status.idle": "2023-04-09T04:16:30.944140Z",
     "shell.execute_reply": "2023-04-09T04:16:30.942889Z"
    },
    "id": "WYuRq34yONMI",
    "papermill": {
     "duration": 0.195287,
     "end_time": "2023-04-09T04:16:30.946993",
     "exception": false,
     "start_time": "2023-04-09T04:16:30.751706",
     "status": "completed"
    },
    "tags": []
   },
   "outputs": [],
   "source": [
    "import os\n",
    "import cv2\n",
    "\n",
    "def resize_image(image_path):\n",
    "    # Load the image and resize it to 128,128\n",
    "    img = cv2.imread(image_path)\n",
    "    img = cv2.resize(img, (128, 128), interpolation = cv2.INTER_AREA)\n",
    "    return img\n",
    "\n",
    "def read_dataset(dataset_path):\n",
    "    # Create a list to store all the images\n",
    "    images = []\n",
    "    # Create a list to store the labels\n",
    "    labels = []\n",
    "    # Loop through the folders in the dataset path\n",
    "    for folder in os.listdir(dataset_path):\n",
    "        # Check if the folder is either 'Testing' or 'Training'\n",
    "        if folder in ['Testing', 'Training']:\n",
    "            # Create the path to the folder\n",
    "            folder_path = os.path.join(dataset_path, folder)\n",
    "            # Loop through the sub-folders in the folder\n",
    "            for sub_folder in os.listdir(folder_path):\n",
    "                # Check if the sub-folder is one of the four categories\n",
    "                if sub_folder in ['glioma', 'meningioma', 'notumor', 'pituitary']:\n",
    "                    # Create the path to the sub-folder\n",
    "                    sub_folder_path = os.path.join(folder_path, sub_folder)\n",
    "                    # Loop through the images in the sub-folder\n",
    "                    for image_file in os.listdir(sub_folder_path):\n",
    "                        # Check if the image is a .jpg file\n",
    "                        if image_file.endswith('.jpg'):\n",
    "                            # Create the path to the image\n",
    "                            image_path = os.path.join(sub_folder_path, image_file)\n",
    "                            # Resize the image and add it to the list of images\n",
    "                            images.append(resize_image(image_path))\n",
    "                            # Add the label to the list of labels\n",
    "                            labels.append(sub_folder)\n",
    "    return images, labels\n"
   ]
  },
  {
   "cell_type": "code",
   "execution_count": 3,
   "id": "44d3c901",
   "metadata": {
    "execution": {
     "iopub.execute_input": "2023-04-09T04:16:30.963142Z",
     "iopub.status.busy": "2023-04-09T04:16:30.962100Z",
     "iopub.status.idle": "2023-04-09T04:17:28.887551Z",
     "shell.execute_reply": "2023-04-09T04:17:28.886375Z"
    },
    "id": "COmGeq48ONML",
    "papermill": {
     "duration": 57.936527,
     "end_time": "2023-04-09T04:17:28.890717",
     "exception": false,
     "start_time": "2023-04-09T04:16:30.954190",
     "status": "completed"
    },
    "tags": []
   },
   "outputs": [],
   "source": [
    "# Call the read_dataset function to read the dataset\n",
    "images, labels = read_dataset('/kaggle/input/brain-tumor-mri-dataset/')"
   ]
  },
  {
   "cell_type": "code",
   "execution_count": null,
   "id": "d0ce1036",
   "metadata": {
    "id": "NmdrtVkk3Bhl",
    "outputId": "331f4efa-6d06-4693-f604-290e996374d1",
    "papermill": {
     "duration": 0.006835,
     "end_time": "2023-04-09T04:17:28.904875",
     "exception": false,
     "start_time": "2023-04-09T04:17:28.898040",
     "status": "completed"
    },
    "tags": []
   },
   "outputs": [],
   "source": []
  },
  {
   "cell_type": "code",
   "execution_count": 4,
   "id": "7bf53744",
   "metadata": {
    "execution": {
     "iopub.execute_input": "2023-04-09T04:17:28.920277Z",
     "iopub.status.busy": "2023-04-09T04:17:28.919903Z",
     "iopub.status.idle": "2023-04-09T04:17:28.927170Z",
     "shell.execute_reply": "2023-04-09T04:17:28.926054Z"
    },
    "id": "1cyNqTa4ONMM",
    "papermill": {
     "duration": 0.017659,
     "end_time": "2023-04-09T04:17:28.929585",
     "exception": false,
     "start_time": "2023-04-09T04:17:28.911926",
     "status": "completed"
    },
    "tags": []
   },
   "outputs": [],
   "source": [
    "target = ['glioma', 'meningioma', 'notumor', 'pituitary']\n",
    "\n",
    "def text_to_index(text_labels):\n",
    "    index_labels = []\n",
    "    for label in text_labels:\n",
    "        index_labels.append(target.index(label))\n",
    "    return index_labels\n",
    "\n",
    "labels = text_to_index(labels)\n"
   ]
  },
  {
   "cell_type": "code",
   "execution_count": 5,
   "id": "d09b5c59",
   "metadata": {
    "execution": {
     "iopub.execute_input": "2023-04-09T04:17:28.944602Z",
     "iopub.status.busy": "2023-04-09T04:17:28.944313Z",
     "iopub.status.idle": "2023-04-09T04:17:29.948086Z",
     "shell.execute_reply": "2023-04-09T04:17:29.946976Z"
    },
    "id": "W66dlbGFONMN",
    "outputId": "030c1d72-f6bc-4816-ba06-98e4215a7f03",
    "papermill": {
     "duration": 1.014529,
     "end_time": "2023-04-09T04:17:29.951009",
     "exception": false,
     "start_time": "2023-04-09T04:17:28.936480",
     "status": "completed"
    },
    "tags": []
   },
   "outputs": [
    {
     "name": "stdout",
     "output_type": "stream",
     "text": [
      "(7023, 128, 128, 3) (7023,)\n"
     ]
    }
   ],
   "source": [
    "images=np.array(images)\n",
    "labels=np.array(labels)\n",
    "print(images.shape,labels.shape)\n",
    "images = images / 255.0"
   ]
  },
  {
   "cell_type": "code",
   "execution_count": 6,
   "id": "0bb4752e",
   "metadata": {
    "execution": {
     "iopub.execute_input": "2023-04-09T04:17:29.968393Z",
     "iopub.status.busy": "2023-04-09T04:17:29.966550Z",
     "iopub.status.idle": "2023-04-09T04:17:29.975398Z",
     "shell.execute_reply": "2023-04-09T04:17:29.974173Z"
    },
    "id": "EdUQ-5Z-ONMO",
    "outputId": "08a63f76-5b08-4f62-aab1-ec87c876479b",
    "papermill": {
     "duration": 0.018473,
     "end_time": "2023-04-09T04:17:29.977639",
     "exception": false,
     "start_time": "2023-04-09T04:17:29.959166",
     "status": "completed"
    },
    "tags": []
   },
   "outputs": [
    {
     "name": "stdout",
     "output_type": "stream",
     "text": [
      "[3 3 3 ... 0 0 0]\n"
     ]
    }
   ],
   "source": [
    "print(labels)"
   ]
  },
  {
   "cell_type": "code",
   "execution_count": null,
   "id": "b98099c5",
   "metadata": {
    "id": "axL9ZIOvONMP",
    "papermill": {
     "duration": 0.006107,
     "end_time": "2023-04-09T04:17:29.990056",
     "exception": false,
     "start_time": "2023-04-09T04:17:29.983949",
     "status": "completed"
    },
    "tags": []
   },
   "outputs": [],
   "source": []
  },
  {
   "cell_type": "code",
   "execution_count": null,
   "id": "1358d925",
   "metadata": {
    "id": "ltkxXVh7ONMP",
    "papermill": {
     "duration": 0.00633,
     "end_time": "2023-04-09T04:17:30.002825",
     "exception": false,
     "start_time": "2023-04-09T04:17:29.996495",
     "status": "completed"
    },
    "tags": []
   },
   "outputs": [],
   "source": []
  },
  {
   "cell_type": "code",
   "execution_count": 7,
   "id": "3f11ccf0",
   "metadata": {
    "execution": {
     "iopub.execute_input": "2023-04-09T04:17:30.017407Z",
     "iopub.status.busy": "2023-04-09T04:17:30.016539Z",
     "iopub.status.idle": "2023-04-09T04:17:30.825567Z",
     "shell.execute_reply": "2023-04-09T04:17:30.824460Z"
    },
    "id": "yR6sIjWHONMP",
    "papermill": {
     "duration": 0.819401,
     "end_time": "2023-04-09T04:17:30.828551",
     "exception": false,
     "start_time": "2023-04-09T04:17:30.009150",
     "status": "completed"
    },
    "tags": []
   },
   "outputs": [],
   "source": [
    "from sklearn.model_selection import train_test_split\n",
    "# Split the images and labels into training and testing sets, with a  test size\n",
    "X_train, X_test, y_train, y_test = train_test_split(images,labels, test_size=0.2, random_state=42,stratify=labels)"
   ]
  },
  {
   "cell_type": "code",
   "execution_count": 8,
   "id": "3ce2f937",
   "metadata": {
    "execution": {
     "iopub.execute_input": "2023-04-09T04:17:30.843859Z",
     "iopub.status.busy": "2023-04-09T04:17:30.843536Z",
     "iopub.status.idle": "2023-04-09T04:17:30.851499Z",
     "shell.execute_reply": "2023-04-09T04:17:30.850533Z"
    },
    "id": "YZNi9TrOONMR",
    "outputId": "3071c082-fb80-4708-8f37-ad7241fb371d",
    "papermill": {
     "duration": 0.018179,
     "end_time": "2023-04-09T04:17:30.853639",
     "exception": false,
     "start_time": "2023-04-09T04:17:30.835460",
     "status": "completed"
    },
    "tags": []
   },
   "outputs": [
    {
     "name": "stdout",
     "output_type": "stream",
     "text": [
      "(5618, 128, 128, 3) (1405, 128, 128, 3) (5618,) (1405,)\n"
     ]
    }
   ],
   "source": [
    "print(X_train.shape, X_test.shape, y_train.shape, y_test.shape)"
   ]
  },
  {
   "cell_type": "code",
   "execution_count": 9,
   "id": "163e1d6b",
   "metadata": {
    "execution": {
     "iopub.execute_input": "2023-04-09T04:17:30.867511Z",
     "iopub.status.busy": "2023-04-09T04:17:30.867035Z",
     "iopub.status.idle": "2023-04-09T04:17:35.297433Z",
     "shell.execute_reply": "2023-04-09T04:17:35.296361Z"
    },
    "id": "Ra5IMiTmONMR",
    "papermill": {
     "duration": 4.440065,
     "end_time": "2023-04-09T04:17:35.299934",
     "exception": false,
     "start_time": "2023-04-09T04:17:30.859869",
     "status": "completed"
    },
    "tags": []
   },
   "outputs": [
    {
     "name": "stdout",
     "output_type": "stream",
     "text": [
      "Downloading data from https://storage.googleapis.com/tensorflow/keras-applications/vgg16/vgg16_weights_tf_dim_ordering_tf_kernels_notop.h5\n",
      "58889256/58889256 [==============================] - 0s 0us/step\n"
     ]
    }
   ],
   "source": [
    "import tensorflow as tf\n",
    "from tensorflow.keras.layers import Dense, Dropout, Flatten, GlobalAveragePooling2D, BatchNormalization, Conv2D, MaxPooling2D\n",
    "from tensorflow.keras.regularizers import l2,l1\n",
    "from tensorflow.keras.optimizers import Adam\n",
    "from tensorflow.keras.models import Model\n",
    "from tensorflow.keras.applications import VGG16\n",
    "\n",
    "# Load the InceptionV3 model pre-trained on ImageNet without the top layers\n",
    "# load the VGG16 model\n",
    "base_model = VGG16(weights='imagenet', include_top=False)\n",
    "# Freeze the weights of the base model to prevent them from being updated during training\n",
    "for layer in base_model.layers:\n",
    "    layer.trainable = False"
   ]
  },
  {
   "cell_type": "code",
   "execution_count": null,
   "id": "47e0bfab",
   "metadata": {
    "id": "3ocxUjTWONMS",
    "papermill": {
     "duration": 0.006741,
     "end_time": "2023-04-09T04:17:35.314173",
     "exception": false,
     "start_time": "2023-04-09T04:17:35.307432",
     "status": "completed"
    },
    "tags": []
   },
   "outputs": [],
   "source": []
  },
  {
   "cell_type": "code",
   "execution_count": 10,
   "id": "15b55559",
   "metadata": {
    "execution": {
     "iopub.execute_input": "2023-04-09T04:17:35.329636Z",
     "iopub.status.busy": "2023-04-09T04:17:35.329317Z",
     "iopub.status.idle": "2023-04-09T04:17:35.370301Z",
     "shell.execute_reply": "2023-04-09T04:17:35.369379Z"
    },
    "id": "mR5rH5PNONMS",
    "outputId": "192dad68-052f-4fe7-9e0c-513d29336a72",
    "papermill": {
     "duration": 0.051129,
     "end_time": "2023-04-09T04:17:35.372486",
     "exception": false,
     "start_time": "2023-04-09T04:17:35.321357",
     "status": "completed"
    },
    "tags": []
   },
   "outputs": [],
   "source": [
    "\n",
    "x =base_model.output\n",
    "# Add remaining layers\n",
    "x = GlobalAveragePooling2D()(x)\n",
    "x = Dense(1024, activation='relu', kernel_regularizer=l2(0.01))(x)\n",
    "predictions = Dense(4, activation='softmax')(x)\n",
    "\n",
    "# Define the model\n",
    "model = Model(inputs=base_model.input, outputs=predictions)\n"
   ]
  },
  {
   "cell_type": "code",
   "execution_count": null,
   "id": "86e7cdfe",
   "metadata": {
    "id": "BUa5B3eFONMT",
    "papermill": {
     "duration": 0.006864,
     "end_time": "2023-04-09T04:17:35.386209",
     "exception": false,
     "start_time": "2023-04-09T04:17:35.379345",
     "status": "completed"
    },
    "tags": []
   },
   "outputs": [],
   "source": []
  },
  {
   "cell_type": "code",
   "execution_count": 11,
   "id": "e874752c",
   "metadata": {
    "execution": {
     "iopub.execute_input": "2023-04-09T04:17:35.401332Z",
     "iopub.status.busy": "2023-04-09T04:17:35.400519Z",
     "iopub.status.idle": "2023-04-09T04:17:35.417423Z",
     "shell.execute_reply": "2023-04-09T04:17:35.416516Z"
    },
    "id": "5b0VZhEdONMU",
    "outputId": "c91d5252-647a-4261-c1c1-ad027b79df90",
    "papermill": {
     "duration": 0.026557,
     "end_time": "2023-04-09T04:17:35.419493",
     "exception": false,
     "start_time": "2023-04-09T04:17:35.392936",
     "status": "completed"
    },
    "tags": []
   },
   "outputs": [],
   "source": [
    "adam = Adam(lr=0.005)\n",
    "model.compile(optimizer=adam, loss='categorical_crossentropy', metrics=['accuracy'])"
   ]
  },
  {
   "cell_type": "code",
   "execution_count": 12,
   "id": "c6782189",
   "metadata": {
    "execution": {
     "iopub.execute_input": "2023-04-09T04:17:35.434034Z",
     "iopub.status.busy": "2023-04-09T04:17:35.433759Z",
     "iopub.status.idle": "2023-04-09T04:17:35.440964Z",
     "shell.execute_reply": "2023-04-09T04:17:35.440045Z"
    },
    "id": "NNci1zuAONMU",
    "papermill": {
     "duration": 0.016913,
     "end_time": "2023-04-09T04:17:35.443060",
     "exception": false,
     "start_time": "2023-04-09T04:17:35.426147",
     "status": "completed"
    },
    "tags": []
   },
   "outputs": [],
   "source": [
    "import tensorflow as tf\n",
    "from tensorflow.keras.applications.inception_v3 import InceptionV3\n",
    "from tensorflow.keras.layers import Dense, GlobalAveragePooling2D\n",
    "from tensorflow.keras.models import Model\n",
    "from tensorflow.keras.optimizers import SGD\n",
    "from tensorflow.keras.callbacks import ModelCheckpoint, EarlyStopping, TensorBoard\n",
    "\n",
    "checkpoint = ModelCheckpoint('best_model.h5', save_best_only=True)\n",
    "early_stop = EarlyStopping(patience=20, restore_best_weights=True)\n",
    "tensorboard = TensorBoard(log_dir='./logs')\n"
   ]
  },
  {
   "cell_type": "code",
   "execution_count": null,
   "id": "a1ff82e2",
   "metadata": {
    "id": "IrapKoXIONMU",
    "papermill": {
     "duration": 0.006586,
     "end_time": "2023-04-09T04:17:35.456627",
     "exception": false,
     "start_time": "2023-04-09T04:17:35.450041",
     "status": "completed"
    },
    "tags": []
   },
   "outputs": [],
   "source": []
  },
  {
   "cell_type": "code",
   "execution_count": 13,
   "id": "9508656e",
   "metadata": {
    "execution": {
     "iopub.execute_input": "2023-04-09T04:17:35.471752Z",
     "iopub.status.busy": "2023-04-09T04:17:35.470944Z",
     "iopub.status.idle": "2023-04-09T04:17:35.477883Z",
     "shell.execute_reply": "2023-04-09T04:17:35.476353Z"
    },
    "id": "fyrVUfLRONMV",
    "outputId": "e3c94726-8cea-4930-d8fd-74292dc94fd3",
    "papermill": {
     "duration": 0.016494,
     "end_time": "2023-04-09T04:17:35.479952",
     "exception": false,
     "start_time": "2023-04-09T04:17:35.463458",
     "status": "completed"
    },
    "tags": []
   },
   "outputs": [
    {
     "name": "stdout",
     "output_type": "stream",
     "text": [
      "Label size (5618, 4)\n",
      "Label size (1405, 4)\n"
     ]
    }
   ],
   "source": [
    "y_train = to_categorical(y_train)\n",
    "print(f\"Label size {y_train.shape}\")\n",
    "y_test = to_categorical(y_test)\n",
    "print(f\"Label size {y_test.shape}\")"
   ]
  },
  {
   "cell_type": "code",
   "execution_count": 14,
   "id": "2e62d9cf",
   "metadata": {
    "execution": {
     "iopub.execute_input": "2023-04-09T04:17:35.494492Z",
     "iopub.status.busy": "2023-04-09T04:17:35.494224Z",
     "iopub.status.idle": "2023-04-09T04:17:36.442581Z",
     "shell.execute_reply": "2023-04-09T04:17:36.440816Z"
    },
    "id": "jMaVXXrlONMW",
    "papermill": {
     "duration": 0.961221,
     "end_time": "2023-04-09T04:17:36.447801",
     "exception": false,
     "start_time": "2023-04-09T04:17:35.486580",
     "status": "completed"
    },
    "tags": []
   },
   "outputs": [],
   "source": [
    "\n",
    "from keras.preprocessing.image import ImageDataGenerator\n",
    "\n",
    "# Create an instance of ImageDataGenerator with rotation and flip parameters\n",
    "datagen = ImageDataGenerator(rotation_range=15, horizontal_flip=True, vertical_flip=True)\n",
    "# Fit the generator to your training data\n",
    "datagen.fit(X_train)\n"
   ]
  },
  {
   "cell_type": "code",
   "execution_count": 15,
   "id": "c1f03b6e",
   "metadata": {
    "execution": {
     "iopub.execute_input": "2023-04-09T04:17:36.464969Z",
     "iopub.status.busy": "2023-04-09T04:17:36.464641Z",
     "iopub.status.idle": "2023-04-09T04:57:33.327445Z",
     "shell.execute_reply": "2023-04-09T04:57:33.326100Z"
    },
    "id": "l5TR0W0ZONMX",
    "outputId": "c0bdaf23-1303-4221-fbd0-5b99cd4a590c",
    "papermill": {
     "duration": 2396.874682,
     "end_time": "2023-04-09T04:57:33.329656",
     "exception": false,
     "start_time": "2023-04-09T04:17:36.454974",
     "status": "completed"
    },
    "tags": []
   },
   "outputs": [
    {
     "name": "stdout",
     "output_type": "stream",
     "text": [
      "Epoch 1/100\n",
      "176/176 [==============================] - 41s 174ms/step - loss: 1.9671 - accuracy: 0.6978 - val_loss: 0.9038 - val_accuracy: 0.7708\n",
      "Epoch 2/100\n",
      "176/176 [==============================] - 24s 138ms/step - loss: 0.8416 - accuracy: 0.7615 - val_loss: 0.9917 - val_accuracy: 0.6733\n",
      "Epoch 3/100\n",
      "176/176 [==============================] - 24s 138ms/step - loss: 0.7535 - accuracy: 0.7834 - val_loss: 0.6986 - val_accuracy: 0.7623\n",
      "Epoch 4/100\n",
      "176/176 [==============================] - 24s 136ms/step - loss: 0.7183 - accuracy: 0.7859 - val_loss: 0.8054 - val_accuracy: 0.7053\n",
      "Epoch 5/100\n",
      "176/176 [==============================] - 25s 140ms/step - loss: 0.7064 - accuracy: 0.7955 - val_loss: 0.7670 - val_accuracy: 0.7488\n",
      "Epoch 6/100\n",
      "176/176 [==============================] - 24s 138ms/step - loss: 0.7069 - accuracy: 0.7882 - val_loss: 0.7127 - val_accuracy: 0.7701\n",
      "Epoch 7/100\n",
      "176/176 [==============================] - 23s 133ms/step - loss: 0.6721 - accuracy: 0.7896 - val_loss: 0.7935 - val_accuracy: 0.7189\n",
      "Epoch 8/100\n",
      "176/176 [==============================] - 24s 137ms/step - loss: 0.6793 - accuracy: 0.7905 - val_loss: 0.5863 - val_accuracy: 0.8335\n",
      "Epoch 9/100\n",
      "176/176 [==============================] - 25s 140ms/step - loss: 0.6332 - accuracy: 0.8078 - val_loss: 0.7457 - val_accuracy: 0.7445\n",
      "Epoch 10/100\n",
      "176/176 [==============================] - 25s 142ms/step - loss: 0.6496 - accuracy: 0.7978 - val_loss: 0.6887 - val_accuracy: 0.7537\n",
      "Epoch 11/100\n",
      "176/176 [==============================] - 24s 135ms/step - loss: 0.6308 - accuracy: 0.8056 - val_loss: 0.6336 - val_accuracy: 0.8064\n",
      "Epoch 12/100\n",
      "176/176 [==============================] - 25s 141ms/step - loss: 0.6832 - accuracy: 0.7809 - val_loss: 0.6585 - val_accuracy: 0.8057\n",
      "Epoch 13/100\n",
      "176/176 [==============================] - 25s 141ms/step - loss: 0.6310 - accuracy: 0.8088 - val_loss: 0.5383 - val_accuracy: 0.8534\n",
      "Epoch 14/100\n",
      "176/176 [==============================] - 24s 137ms/step - loss: 0.6130 - accuracy: 0.8106 - val_loss: 0.5600 - val_accuracy: 0.8377\n",
      "Epoch 15/100\n",
      "176/176 [==============================] - 24s 135ms/step - loss: 0.6114 - accuracy: 0.8131 - val_loss: 0.5577 - val_accuracy: 0.8370\n",
      "Epoch 16/100\n",
      "176/176 [==============================] - 25s 140ms/step - loss: 0.5950 - accuracy: 0.8184 - val_loss: 0.5233 - val_accuracy: 0.8512\n",
      "Epoch 17/100\n",
      "176/176 [==============================] - 25s 142ms/step - loss: 0.5773 - accuracy: 0.8256 - val_loss: 0.6401 - val_accuracy: 0.8043\n",
      "Epoch 18/100\n",
      "176/176 [==============================] - 24s 134ms/step - loss: 0.5961 - accuracy: 0.8206 - val_loss: 0.6392 - val_accuracy: 0.7957\n",
      "Epoch 19/100\n",
      "176/176 [==============================] - 25s 139ms/step - loss: 0.5724 - accuracy: 0.8311 - val_loss: 0.5230 - val_accuracy: 0.8463\n",
      "Epoch 20/100\n",
      "176/176 [==============================] - 25s 142ms/step - loss: 0.5650 - accuracy: 0.8304 - val_loss: 0.5722 - val_accuracy: 0.8270\n",
      "Epoch 21/100\n",
      "176/176 [==============================] - 24s 139ms/step - loss: 0.5856 - accuracy: 0.8236 - val_loss: 0.5321 - val_accuracy: 0.8448\n",
      "Epoch 22/100\n",
      "176/176 [==============================] - 24s 138ms/step - loss: 0.5478 - accuracy: 0.8373 - val_loss: 0.5410 - val_accuracy: 0.8456\n",
      "Epoch 23/100\n",
      "176/176 [==============================] - 23s 133ms/step - loss: 0.5565 - accuracy: 0.8329 - val_loss: 0.6388 - val_accuracy: 0.7986\n",
      "Epoch 24/100\n",
      "176/176 [==============================] - 24s 137ms/step - loss: 0.5487 - accuracy: 0.8368 - val_loss: 0.5561 - val_accuracy: 0.8399\n",
      "Epoch 25/100\n",
      "176/176 [==============================] - 25s 140ms/step - loss: 0.5380 - accuracy: 0.8343 - val_loss: 0.5366 - val_accuracy: 0.8448\n",
      "Epoch 26/100\n",
      "176/176 [==============================] - 24s 137ms/step - loss: 0.5394 - accuracy: 0.8313 - val_loss: 0.5125 - val_accuracy: 0.8534\n",
      "Epoch 27/100\n",
      "176/176 [==============================] - 23s 133ms/step - loss: 0.5341 - accuracy: 0.8398 - val_loss: 0.5644 - val_accuracy: 0.8292\n",
      "Epoch 28/100\n",
      "176/176 [==============================] - 24s 138ms/step - loss: 0.5266 - accuracy: 0.8394 - val_loss: 0.4800 - val_accuracy: 0.8690\n",
      "Epoch 29/100\n",
      "176/176 [==============================] - 24s 136ms/step - loss: 0.5370 - accuracy: 0.8352 - val_loss: 0.5686 - val_accuracy: 0.8114\n",
      "Epoch 30/100\n",
      "176/176 [==============================] - 24s 138ms/step - loss: 0.5279 - accuracy: 0.8402 - val_loss: 0.5046 - val_accuracy: 0.8413\n",
      "Epoch 31/100\n",
      "176/176 [==============================] - 24s 136ms/step - loss: 0.5255 - accuracy: 0.8409 - val_loss: 0.5063 - val_accuracy: 0.8434\n",
      "Epoch 32/100\n",
      "176/176 [==============================] - 25s 141ms/step - loss: 0.5232 - accuracy: 0.8382 - val_loss: 0.4981 - val_accuracy: 0.8527\n",
      "Epoch 33/100\n",
      "176/176 [==============================] - 23s 132ms/step - loss: 0.5031 - accuracy: 0.8523 - val_loss: 0.5241 - val_accuracy: 0.8242\n",
      "Epoch 34/100\n",
      "176/176 [==============================] - 24s 136ms/step - loss: 0.5211 - accuracy: 0.8416 - val_loss: 0.4864 - val_accuracy: 0.8456\n",
      "Epoch 35/100\n",
      "176/176 [==============================] - 24s 137ms/step - loss: 0.5036 - accuracy: 0.8524 - val_loss: 0.4839 - val_accuracy: 0.8498\n",
      "Epoch 36/100\n",
      "176/176 [==============================] - 24s 136ms/step - loss: 0.5158 - accuracy: 0.8434 - val_loss: 0.4943 - val_accuracy: 0.8491\n",
      "Epoch 37/100\n",
      "176/176 [==============================] - 24s 137ms/step - loss: 0.5032 - accuracy: 0.8524 - val_loss: 0.5190 - val_accuracy: 0.8441\n",
      "Epoch 38/100\n",
      "176/176 [==============================] - 23s 132ms/step - loss: 0.5079 - accuracy: 0.8499 - val_loss: 0.4872 - val_accuracy: 0.8527\n",
      "Epoch 39/100\n",
      "176/176 [==============================] - 24s 136ms/step - loss: 0.5139 - accuracy: 0.8403 - val_loss: 0.5305 - val_accuracy: 0.8263\n",
      "Epoch 40/100\n",
      "176/176 [==============================] - 24s 137ms/step - loss: 0.4932 - accuracy: 0.8480 - val_loss: 0.4965 - val_accuracy: 0.8633\n",
      "Epoch 41/100\n",
      "176/176 [==============================] - 24s 136ms/step - loss: 0.5123 - accuracy: 0.8448 - val_loss: 0.4917 - val_accuracy: 0.8541\n",
      "Epoch 42/100\n",
      "176/176 [==============================] - 24s 134ms/step - loss: 0.4953 - accuracy: 0.8505 - val_loss: 0.4734 - val_accuracy: 0.8705\n",
      "Epoch 43/100\n",
      "176/176 [==============================] - 24s 136ms/step - loss: 0.4848 - accuracy: 0.8533 - val_loss: 0.5229 - val_accuracy: 0.8228\n",
      "Epoch 44/100\n",
      "176/176 [==============================] - 24s 137ms/step - loss: 0.4910 - accuracy: 0.8505 - val_loss: 0.5097 - val_accuracy: 0.8406\n",
      "Epoch 45/100\n",
      "176/176 [==============================] - 24s 138ms/step - loss: 0.4875 - accuracy: 0.8551 - val_loss: 0.4603 - val_accuracy: 0.8548\n",
      "Epoch 46/100\n",
      "176/176 [==============================] - 24s 135ms/step - loss: 0.5035 - accuracy: 0.8476 - val_loss: 0.4840 - val_accuracy: 0.8584\n",
      "Epoch 47/100\n",
      "176/176 [==============================] - 24s 138ms/step - loss: 0.4911 - accuracy: 0.8530 - val_loss: 0.5080 - val_accuracy: 0.8164\n",
      "Epoch 48/100\n",
      "176/176 [==============================] - 25s 140ms/step - loss: 0.4993 - accuracy: 0.8446 - val_loss: 0.5276 - val_accuracy: 0.8420\n",
      "Epoch 49/100\n",
      "176/176 [==============================] - 24s 135ms/step - loss: 0.4798 - accuracy: 0.8530 - val_loss: 0.5277 - val_accuracy: 0.8363\n",
      "Epoch 50/100\n",
      "176/176 [==============================] - 24s 135ms/step - loss: 0.4821 - accuracy: 0.8540 - val_loss: 0.5192 - val_accuracy: 0.8427\n",
      "Epoch 51/100\n",
      "176/176 [==============================] - 24s 138ms/step - loss: 0.4930 - accuracy: 0.8473 - val_loss: 0.6547 - val_accuracy: 0.7979\n",
      "Epoch 52/100\n",
      "176/176 [==============================] - 25s 141ms/step - loss: 0.4709 - accuracy: 0.8567 - val_loss: 0.5058 - val_accuracy: 0.8456\n",
      "Epoch 53/100\n",
      "176/176 [==============================] - 25s 140ms/step - loss: 0.4805 - accuracy: 0.8553 - val_loss: 0.4550 - val_accuracy: 0.8676\n",
      "Epoch 54/100\n",
      "176/176 [==============================] - 24s 138ms/step - loss: 0.4733 - accuracy: 0.8556 - val_loss: 0.4764 - val_accuracy: 0.8534\n",
      "Epoch 55/100\n",
      "176/176 [==============================] - 24s 136ms/step - loss: 0.4843 - accuracy: 0.8491 - val_loss: 0.4766 - val_accuracy: 0.8548\n",
      "Epoch 56/100\n",
      "176/176 [==============================] - 24s 138ms/step - loss: 0.4716 - accuracy: 0.8578 - val_loss: 0.4872 - val_accuracy: 0.8541\n",
      "Epoch 57/100\n",
      "176/176 [==============================] - 25s 142ms/step - loss: 0.4683 - accuracy: 0.8612 - val_loss: 0.4611 - val_accuracy: 0.8705\n",
      "Epoch 58/100\n",
      "176/176 [==============================] - 24s 136ms/step - loss: 0.4680 - accuracy: 0.8574 - val_loss: 0.4706 - val_accuracy: 0.8598\n",
      "Epoch 59/100\n",
      "176/176 [==============================] - 25s 140ms/step - loss: 0.4863 - accuracy: 0.8565 - val_loss: 0.4769 - val_accuracy: 0.8676\n",
      "Epoch 60/100\n",
      "176/176 [==============================] - 24s 138ms/step - loss: 0.4870 - accuracy: 0.8512 - val_loss: 0.5147 - val_accuracy: 0.8270\n",
      "Epoch 61/100\n",
      "176/176 [==============================] - 24s 138ms/step - loss: 0.4550 - accuracy: 0.8663 - val_loss: 0.4721 - val_accuracy: 0.8434\n",
      "Epoch 62/100\n",
      "176/176 [==============================] - 25s 143ms/step - loss: 0.4567 - accuracy: 0.8645 - val_loss: 0.4616 - val_accuracy: 0.8562\n",
      "Epoch 63/100\n",
      "176/176 [==============================] - 24s 137ms/step - loss: 0.4542 - accuracy: 0.8624 - val_loss: 0.4587 - val_accuracy: 0.8548\n",
      "Epoch 64/100\n",
      "176/176 [==============================] - 24s 138ms/step - loss: 0.4549 - accuracy: 0.8606 - val_loss: 0.4455 - val_accuracy: 0.8626\n",
      "Epoch 65/100\n",
      "176/176 [==============================] - 24s 138ms/step - loss: 0.4855 - accuracy: 0.8519 - val_loss: 0.4352 - val_accuracy: 0.8690\n",
      "Epoch 66/100\n",
      "176/176 [==============================] - 24s 139ms/step - loss: 0.4832 - accuracy: 0.8524 - val_loss: 0.4960 - val_accuracy: 0.8477\n",
      "Epoch 67/100\n",
      "176/176 [==============================] - 24s 139ms/step - loss: 0.4614 - accuracy: 0.8621 - val_loss: 0.5858 - val_accuracy: 0.7993\n",
      "Epoch 68/100\n",
      "176/176 [==============================] - 25s 141ms/step - loss: 0.4555 - accuracy: 0.8631 - val_loss: 0.5796 - val_accuracy: 0.8114\n",
      "Epoch 69/100\n",
      "176/176 [==============================] - 24s 137ms/step - loss: 0.4577 - accuracy: 0.8644 - val_loss: 0.5353 - val_accuracy: 0.8363\n",
      "Epoch 70/100\n",
      "176/176 [==============================] - 24s 138ms/step - loss: 0.4568 - accuracy: 0.8667 - val_loss: 0.5037 - val_accuracy: 0.8527\n",
      "Epoch 71/100\n",
      "176/176 [==============================] - 24s 136ms/step - loss: 0.4631 - accuracy: 0.8624 - val_loss: 0.4664 - val_accuracy: 0.8655\n",
      "Epoch 72/100\n",
      "176/176 [==============================] - 25s 144ms/step - loss: 0.4611 - accuracy: 0.8596 - val_loss: 0.4348 - val_accuracy: 0.8819\n",
      "Epoch 73/100\n",
      "176/176 [==============================] - 25s 141ms/step - loss: 0.4636 - accuracy: 0.8624 - val_loss: 0.4840 - val_accuracy: 0.8569\n",
      "Epoch 74/100\n",
      "176/176 [==============================] - 25s 141ms/step - loss: 0.4569 - accuracy: 0.8669 - val_loss: 0.5492 - val_accuracy: 0.8100\n",
      "Epoch 75/100\n",
      "176/176 [==============================] - 25s 140ms/step - loss: 0.4634 - accuracy: 0.8578 - val_loss: 0.4595 - val_accuracy: 0.8633\n",
      "Epoch 76/100\n",
      "176/176 [==============================] - 23s 133ms/step - loss: 0.4533 - accuracy: 0.8676 - val_loss: 0.5068 - val_accuracy: 0.8413\n",
      "Epoch 77/100\n",
      "176/176 [==============================] - 24s 135ms/step - loss: 0.4521 - accuracy: 0.8644 - val_loss: 0.4953 - val_accuracy: 0.8548\n",
      "Epoch 78/100\n",
      "176/176 [==============================] - 24s 136ms/step - loss: 0.4690 - accuracy: 0.8558 - val_loss: 0.4760 - val_accuracy: 0.8626\n",
      "Epoch 79/100\n",
      "176/176 [==============================] - 23s 133ms/step - loss: 0.4717 - accuracy: 0.8524 - val_loss: 0.4737 - val_accuracy: 0.8626\n",
      "Epoch 80/100\n",
      "176/176 [==============================] - 24s 137ms/step - loss: 0.4456 - accuracy: 0.8660 - val_loss: 0.4431 - val_accuracy: 0.8648\n",
      "Epoch 81/100\n",
      "176/176 [==============================] - 24s 137ms/step - loss: 0.4397 - accuracy: 0.8667 - val_loss: 0.4511 - val_accuracy: 0.8619\n",
      "Epoch 82/100\n",
      "176/176 [==============================] - 23s 129ms/step - loss: 0.4461 - accuracy: 0.8667 - val_loss: 0.4630 - val_accuracy: 0.8512\n",
      "Epoch 83/100\n",
      "176/176 [==============================] - 24s 135ms/step - loss: 0.4357 - accuracy: 0.8727 - val_loss: 0.4647 - val_accuracy: 0.8577\n",
      "Epoch 84/100\n",
      "176/176 [==============================] - 24s 137ms/step - loss: 0.4393 - accuracy: 0.8674 - val_loss: 0.4658 - val_accuracy: 0.8427\n",
      "Epoch 85/100\n",
      "176/176 [==============================] - 24s 136ms/step - loss: 0.4411 - accuracy: 0.8661 - val_loss: 0.4549 - val_accuracy: 0.8690\n",
      "Epoch 86/100\n",
      "176/176 [==============================] - 23s 132ms/step - loss: 0.4390 - accuracy: 0.8726 - val_loss: 0.4408 - val_accuracy: 0.8690\n",
      "Epoch 87/100\n",
      "176/176 [==============================] - 24s 139ms/step - loss: 0.4497 - accuracy: 0.8624 - val_loss: 0.4872 - val_accuracy: 0.8434\n",
      "Epoch 88/100\n",
      "176/176 [==============================] - 24s 137ms/step - loss: 0.4521 - accuracy: 0.8677 - val_loss: 0.5436 - val_accuracy: 0.8335\n",
      "Epoch 89/100\n",
      "176/176 [==============================] - 24s 136ms/step - loss: 0.4402 - accuracy: 0.8697 - val_loss: 0.4724 - val_accuracy: 0.8448\n",
      "Epoch 90/100\n",
      "176/176 [==============================] - 23s 133ms/step - loss: 0.4588 - accuracy: 0.8564 - val_loss: 0.4759 - val_accuracy: 0.8477\n",
      "Epoch 91/100\n",
      "176/176 [==============================] - 24s 138ms/step - loss: 0.4446 - accuracy: 0.8642 - val_loss: 0.4447 - val_accuracy: 0.8633\n",
      "Epoch 92/100\n",
      "176/176 [==============================] - 24s 137ms/step - loss: 0.4296 - accuracy: 0.8738 - val_loss: 0.4447 - val_accuracy: 0.8641\n",
      "Total time taken:  2396.8546607494354  seconds\n"
     ]
    }
   ],
   "source": [
    "import time\n",
    "\n",
    "# start time\n",
    "start_time = time.time()\n",
    "\n",
    "\n",
    "history = model.fit(datagen.flow(X_train, y_train, batch_size=32), validation_data=(X_test, y_test), epochs=100, batch_size=32, callbacks=[checkpoint, early_stop])\n",
    "\n",
    "# end time\n",
    "end_time = time.time()\n",
    "\n",
    "# calculate total time taken\n",
    "total_time = end_time - start_time\n",
    "\n",
    "print(\"Total time taken: \", total_time, \" seconds\")"
   ]
  },
  {
   "cell_type": "code",
   "execution_count": 16,
   "id": "a41145de",
   "metadata": {
    "execution": {
     "iopub.execute_input": "2023-04-09T04:57:35.215767Z",
     "iopub.status.busy": "2023-04-09T04:57:35.215387Z",
     "iopub.status.idle": "2023-04-09T04:57:35.679188Z",
     "shell.execute_reply": "2023-04-09T04:57:35.678258Z"
    },
    "id": "N9l3MPciONMX",
    "outputId": "3dbae8b9-0ff2-4124-98f3-4ec92f01a792",
    "papermill": {
     "duration": 1.332507,
     "end_time": "2023-04-09T04:57:35.681421",
     "exception": false,
     "start_time": "2023-04-09T04:57:34.348914",
     "status": "completed"
    },
    "tags": []
   },
   "outputs": [
    {
     "data": {
      "image/png": "[encoded data removed]",
      "text/plain": [
       "<Figure size 640x480 with 1 Axes>"
      ]
     },
     "metadata": {},
     "output_type": "display_data"
    },
    {
     "data": {
      "image/png": "[encoded data removed]",
      "text/plain": [
       "<Figure size 640x480 with 1 Axes>"
      ]
     },
     "metadata": {},
     "output_type": "display_data"
    }
   ],
   "source": [
    "import matplotlib.pyplot as plt\n",
    "\n",
    "plt.plot(history.history['accuracy'], label='train accuracy')\n",
    "plt.plot(history.history['val_accuracy'], label='validation accuracy')\n",
    "plt.legend()\n",
    "plt.show()\n",
    "\n",
    "plt.plot(history.history['loss'], label='train loss')\n",
    "plt.plot(history.history['val_loss'], label='validation loss')\n",
    "plt.legend()\n",
    "plt.show()\n"
   ]
  },
  {
   "cell_type": "code",
   "execution_count": 17,
   "id": "cd82d3e3",
   "metadata": {
    "execution": {
     "iopub.execute_input": "2023-04-09T04:57:37.552052Z",
     "iopub.status.busy": "2023-04-09T04:57:37.551352Z",
     "iopub.status.idle": "2023-04-09T04:57:40.521356Z",
     "shell.execute_reply": "2023-04-09T04:57:40.520311Z"
    },
    "id": "ckFVLTE6ONMX",
    "outputId": "154deaa1-c501-4a10-aa56-e4b99acdd2ba",
    "papermill": {
     "duration": 3.921041,
     "end_time": "2023-04-09T04:57:40.523963",
     "exception": false,
     "start_time": "2023-04-09T04:57:36.602922",
     "status": "completed"
    },
    "tags": []
   },
   "outputs": [
    {
     "name": "stdout",
     "output_type": "stream",
     "text": [
      "44/44 [==============================] - 2s 43ms/step\n"
     ]
    }
   ],
   "source": [
    "y_pred = model.predict(X_test)"
   ]
  },
  {
   "cell_type": "code",
   "execution_count": 18,
   "id": "c47944b8",
   "metadata": {
    "execution": {
     "iopub.execute_input": "2023-04-09T04:57:42.324958Z",
     "iopub.status.busy": "2023-04-09T04:57:42.324579Z",
     "iopub.status.idle": "2023-04-09T04:57:45.971622Z",
     "shell.execute_reply": "2023-04-09T04:57:45.970441Z"
    },
    "id": "ynO78lNGONMY",
    "jupyter": {
     "source_hidden": true
    },
    "outputId": "4e475e5c-f60e-4b0c-90f3-f93c566ae406",
    "papermill": {
     "duration": 4.57237,
     "end_time": "2023-04-09T04:57:45.974165",
     "exception": false,
     "start_time": "2023-04-09T04:57:41.401795",
     "status": "completed"
    },
    "tags": []
   },
   "outputs": [
    {
     "name": "stdout",
     "output_type": "stream",
     "text": [
      "44/44 [==============================] - 2s 44ms/step\n"
     ]
    },
    {
     "data": {
      "image/png": "[encoded data removed]",
      "text/plain": [
       "<Figure size 640x480 with 1 Axes>"
      ]
     },
     "metadata": {},
     "output_type": "display_data"
    }
   ],
   "source": [
    "from sklearn.metrics import roc_curve, auc\n",
    "from sklearn.preprocessing import label_binarize\n",
    "import matplotlib.pyplot as plt\n",
    "\n",
    "# Binarize the labels\n",
    "y_test_bin = label_binarize(y_test, classes=[0, 1, 2, 3])\n",
    "\n",
    "# Compute the predicted probabilities for each class\n",
    "probas = model.predict(X_test)\n",
    "\n",
    "# Compute the ROC curve and ROC area for each class\n",
    "fpr = dict()\n",
    "tpr = dict()\n",
    "roc_auc = dict()\n",
    "for i in range(4):\n",
    "    fpr[i], tpr[i], _ = roc_curve(y_test_bin[:, i], probas[:, i])\n",
    "    roc_auc[i] = auc(fpr[i], tpr[i])\n",
    "\n",
    "# Compute micro-average ROC curve and ROC area\n",
    "fpr[\"micro\"], tpr[\"micro\"], _ = roc_curve(y_test_bin.ravel(), probas.ravel())\n",
    "roc_auc[\"micro\"] = auc(fpr[\"micro\"], tpr[\"micro\"])\n",
    "\n",
    "# Plot the ROC curves\n",
    "plt.figure()\n",
    "lw = 2\n",
    "plt.plot(fpr[\"micro\"], tpr[\"micro\"], color='deeppink', lw=lw, label='micro-average ROC curve (area = {0:0.2f})'\n",
    "         ''.format(roc_auc[\"micro\"]))\n",
    "colors = ['aqua', 'darkorange', 'cornflowerblue', 'purple']\n",
    "for i, color in zip(range(4), colors):\n",
    "    plt.plot(fpr[i], tpr[i], color=color, lw=lw,\n",
    "             label='ROC curve of class {0} (area = {1:0.2f})'\n",
    "             ''.format(i, roc_auc[i]))\n",
    "plt.plot([0, 1], [0, 1], 'k--', lw=lw)\n",
    "plt.xlim([0.0, 1.0])\n",
    "plt.ylim([0.0, 1.05])\n",
    "plt.xlabel('False Positive Rate')\n",
    "plt.ylabel('True Positive Rate')\n",
    "plt.title('ROC curve')\n",
    "plt.legend(loc=\"lower right\")\n",
    "plt.show()\n"
   ]
  },
  {
   "cell_type": "code",
   "execution_count": null,
   "id": "fae3752f",
   "metadata": {
    "id": "6FegY7eQONMY",
    "papermill": {
     "duration": 0.875439,
     "end_time": "2023-04-09T04:57:47.779921",
     "exception": false,
     "start_time": "2023-04-09T04:57:46.904482",
     "status": "completed"
    },
    "tags": []
   },
   "outputs": [],
   "source": []
  },
  {
   "cell_type": "code",
   "execution_count": 19,
   "id": "dbcc0a1e",
   "metadata": {
    "execution": {
     "iopub.execute_input": "2023-04-09T04:57:49.590544Z",
     "iopub.status.busy": "2023-04-09T04:57:49.589488Z",
     "iopub.status.idle": "2023-04-09T04:57:49.599728Z",
     "shell.execute_reply": "2023-04-09T04:57:49.598686Z"
    },
    "id": "1Gw5GQvVONMZ",
    "papermill": {
     "duration": 0.88288,
     "end_time": "2023-04-09T04:57:49.601814",
     "exception": false,
     "start_time": "2023-04-09T04:57:48.718934",
     "status": "completed"
    },
    "tags": []
   },
   "outputs": [],
   "source": [
    "import numpy as np\n",
    "import matplotlib.pyplot as plt\n",
    "import seaborn as sns\n",
    "from sklearn.metrics import confusion_matrix, classification_report,accuracy_score,cohen_kappa_score\n",
    "\n",
    "def evaluate_model(model, X_test, y_test, labels):\n",
    "    # Make predictions on test data\n",
    "    y_pred = model.predict(X_test)\n",
    "    y_pred_labels = np.argmax(y_pred, axis=1)\n",
    "    y_test_labels = np.argmax(y_test, axis=1)\n",
    "\n",
    "    # Calculate the metrics\n",
    "    loss, accuracy = model.evaluate(X_test, y_test)\n",
    "    precision = accuracy_score(y_test_labels, y_pred_labels)*100\n",
    "    kappa = cohen_kappa_score(y_test_labels, y_pred_labels)*100\n",
    "    classification = classification_report(y_test_labels, y_pred_labels, target_names=labels)\n",
    "    confusion = confusion_matrix(y_test_labels, y_pred_labels)\n",
    "    accuracy=accuracy*100\n",
    "    # Plot the confusion matrix\n",
    "    fig, ax = plt.subplots(figsize=(10, 8))\n",
    "    sns.heatmap(confusion, annot=True, cmap=\"Blues\", fmt=\"d\", xticklabels=labels, yticklabels=labels)\n",
    "    ax.set_xlabel(\"Predicted Labels\")\n",
    "    ax.set_ylabel(\"True Labels\")\n",
    "    ax.set_title(\"Confusion Matrix\")\n",
    "    plt.show()\n",
    "\n",
    "    # Print the classification report\n",
    "    print(\"Classification Report:\\n\", classification)\n",
    "\n",
    "    # Print the metrics\n",
    "    print(f\"Loss: {loss:.4f}\")\n",
    "    print(f\"Accuracy: {accuracy:.4f}\")\n",
    "    print(f\"Precision: {precision:.4f}\")\n",
    "    print(f\"Kappa Score: {kappa:.4f}\")\n",
    "    return confusion, classification"
   ]
  },
  {
   "cell_type": "code",
   "execution_count": 20,
   "id": "aa4c9265",
   "metadata": {
    "execution": {
     "iopub.execute_input": "2023-04-09T04:57:51.455650Z",
     "iopub.status.busy": "2023-04-09T04:57:51.454974Z",
     "iopub.status.idle": "2023-04-09T04:57:58.296743Z",
     "shell.execute_reply": "2023-04-09T04:57:58.295728Z"
    },
    "id": "8Z3icNvZONMZ",
    "outputId": "b3bb26d8-a744-4658-b450-a2a13172bf15",
    "papermill": {
     "duration": 7.780246,
     "end_time": "2023-04-09T04:57:58.299786",
     "exception": false,
     "start_time": "2023-04-09T04:57:50.519540",
     "status": "completed"
    },
    "tags": []
   },
   "outputs": [
    {
     "name": "stdout",
     "output_type": "stream",
     "text": [
      "44/44 [==============================] - 2s 44ms/step\n",
      "44/44 [==============================] - 2s 44ms/step - loss: 0.4348 - accuracy: 0.8819\n"
     ]
    },
    {
     "data": {
      "image/png": "[encoded data removed]",
      "text/plain": [
       "<Figure size 1000x800 with 2 Axes>"
      ]
     },
     "metadata": {},
     "output_type": "display_data"
    },
    {
     "name": "stdout",
     "output_type": "stream",
     "text": [
      "Classification Report:\n",
      "               precision    recall  f1-score   support\n",
      "\n",
      "      glioma       0.86      0.80      0.83       324\n",
      "  meningioma       0.75      0.81      0.78       329\n",
      "     notumor       0.97      0.96      0.96       400\n",
      "   pituitary       0.93      0.94      0.94       352\n",
      "\n",
      "    accuracy                           0.88      1405\n",
      "   macro avg       0.88      0.88      0.88      1405\n",
      "weighted avg       0.88      0.88      0.88      1405\n",
      "\n",
      "Loss: 0.4348\n",
      "Accuracy: 88.1851\n",
      "Precision: 88.1851\n",
      "Kappa Score: 84.2107\n"
     ]
    }
   ],
   "source": [
    "target = ['glioma', 'meningioma', 'notumor', 'pituitary']\n",
    "confusion, classification= evaluate_model(model, X_test, y_test, target)\n"
   ]
  },
  {
   "cell_type": "code",
   "execution_count": 21,
   "id": "404539fb",
   "metadata": {
    "execution": {
     "iopub.execute_input": "2023-04-09T04:58:00.114020Z",
     "iopub.status.busy": "2023-04-09T04:58:00.113650Z",
     "iopub.status.idle": "2023-04-09T04:58:00.233677Z",
     "shell.execute_reply": "2023-04-09T04:58:00.232578Z"
    },
    "id": "ZIQNT1fMONMa",
    "papermill": {
     "duration": 1.046174,
     "end_time": "2023-04-09T04:58:00.236573",
     "exception": false,
     "start_time": "2023-04-09T04:57:59.190399",
     "status": "completed"
    },
    "tags": []
   },
   "outputs": [],
   "source": [
    "from tensorflow.keras.models import load_model\n",
    "# Save the model to a file\n",
    "model.save('vgg16-tf1.h5')"
   ]
  },
  {
   "cell_type": "code",
   "execution_count": null,
   "id": "7f02fc72",
   "metadata": {
    "id": "sVKqajdVONMa",
    "papermill": {
     "duration": 0.874592,
     "end_time": "2023-04-09T04:58:02.053289",
     "exception": false,
     "start_time": "2023-04-09T04:58:01.178697",
     "status": "completed"
    },
    "tags": []
   },
   "outputs": [],
   "source": []
  },
  {
   "cell_type": "code",
   "execution_count": 22,
   "id": "af65f78d",
   "metadata": {
    "execution": {
     "iopub.execute_input": "2023-04-09T04:58:03.924845Z",
     "iopub.status.busy": "2023-04-09T04:58:03.923814Z",
     "iopub.status.idle": "2023-04-09T04:58:03.932669Z",
     "shell.execute_reply": "2023-04-09T04:58:03.931671Z"
    },
    "id": "fwNFzQy_ONMa",
    "outputId": "382ae8e5-f655-4264-dbae-b7684f85fabe",
    "papermill": {
     "duration": 0.953978,
     "end_time": "2023-04-09T04:58:03.934976",
     "exception": false,
     "start_time": "2023-04-09T04:58:02.980998",
     "status": "completed"
    },
    "tags": []
   },
   "outputs": [
    {
     "name": "stdout",
     "output_type": "stream",
     "text": [
      "Trainable layers summary:\n",
      "global_average_pooling2d True (None, 512)\n",
      "dense True (None, 1024)\n",
      "dense_1 True (None, 4)\n"
     ]
    }
   ],
   "source": [
    "# Get the list of trainable layers in the model\n",
    "trainable_layers = [layer for layer in model.layers if layer.trainable]\n",
    "\n",
    "# Print the summary of trainable layers only\n",
    "print(\"Trainable layers summary:\")\n",
    "for layer in trainable_layers:\n",
    "    print(layer.name, layer.trainable, layer.output_shape)\n"
   ]
  },
  {
   "cell_type": "code",
   "execution_count": null,
   "id": "0fa76cb2",
   "metadata": {
    "id": "88MLMxuQ4IXY",
    "papermill": {
     "duration": 0.936883,
     "end_time": "2023-04-09T04:58:05.767771",
     "exception": false,
     "start_time": "2023-04-09T04:58:04.830888",
     "status": "completed"
    },
    "tags": []
   },
   "outputs": [],
   "source": []
  }
 ],
 "metadata": {
  "kernelspec": {
   "display_name": "Python 3",
   "language": "python",
   "name": "python3"
  },
  "language_info": {
   "codemirror_mode": {
    "name": "ipython",
    "version": 3
   },
   "file_extension": ".py",
   "mimetype": "text/x-python",
   "name": "python",
   "nbconvert_exporter": "python",
   "pygments_lexer": "ipython3",
   "version": "3.7.12"
  },
  "papermill": {
   "default_parameters": {},
   "duration": 2518.657688,
   "end_time": "2023-04-09T04:58:10.580368",
   "environment_variables": {},
   "exception": null,
   "input_path": "__notebook__.ipynb",
   "output_path": "__notebook__.ipynb",
   "parameters": {},
   "start_time": "2023-04-09T04:16:11.922680",
   "version": "2.4.0"
  }
 },
 "nbformat": 4,
 "nbformat_minor": 5
}
