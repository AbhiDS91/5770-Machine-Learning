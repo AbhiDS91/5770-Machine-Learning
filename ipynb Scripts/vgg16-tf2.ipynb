{
 "cells": [
  {
   "cell_type": "code",
   "execution_count": 1,
   "id": "2e9fe786",
   "metadata": {
    "_cell_guid": "b1076dfc-b9ad-4769-8c92-a6c4dae69d19",
    "_uuid": "8f2839f25d086af736a60e9eeb907d3b93b6e0e5",
    "execution": {
     "iopub.execute_input": "2023-04-09T04:18:12.478031Z",
     "iopub.status.busy": "2023-04-09T04:18:12.477502Z",
     "iopub.status.idle": "2023-04-09T04:18:20.646101Z",
     "shell.execute_reply": "2023-04-09T04:18:20.644966Z"
    },
    "id": "AGQtOeHMONME",
    "papermill": {
     "duration": 8.181808,
     "end_time": "2023-04-09T04:18:20.648968",
     "exception": false,
     "start_time": "2023-04-09T04:18:12.467160",
     "status": "completed"
    },
    "tags": []
   },
   "outputs": [],
   "source": [
    "import pandas as pd\n",
    "from tensorflow.keras.models import Sequential\n",
    "from tensorflow.keras.layers import Dense\n",
    "from sklearn.model_selection import cross_val_score\n",
    "from sklearn.preprocessing import LabelEncoder\n",
    "from sklearn.model_selection import StratifiedKFold\n",
    "from sklearn.preprocessing import StandardScaler\n",
    "from sklearn.pipeline import Pipeline\n",
    "import pandas as pd\n",
    "import numpy as np\n",
    "import matplotlib.pyplot as plt\n",
    "import seaborn as sns\n",
    "from sklearn.model_selection import train_test_split\n",
    "from sklearn.metrics import confusion_matrix\n",
    "import keras\n",
    "from keras.models import Sequential\n",
    "from keras.layers import Conv2D, Lambda, MaxPooling2D # convolution layers\n",
    "from keras.layers import Dense, Dropout, Flatten # core layers\n",
    "from keras.layers import BatchNormalization\n",
    "from keras.preprocessing.image import ImageDataGenerator\n",
    "from keras.utils.np_utils import to_categorical\n"
   ]
  },
  {
   "cell_type": "code",
   "execution_count": null,
   "id": "7319a49c",
   "metadata": {
    "id": "Cb_UyciHO2BP",
    "papermill": {
     "duration": 0.006599,
     "end_time": "2023-04-09T04:18:20.662389",
     "exception": false,
     "start_time": "2023-04-09T04:18:20.655790",
     "status": "completed"
    },
    "tags": []
   },
   "outputs": [],
   "source": []
  },
  {
   "cell_type": "code",
   "execution_count": 2,
   "id": "acaaee48",
   "metadata": {
    "execution": {
     "iopub.execute_input": "2023-04-09T04:18:20.676815Z",
     "iopub.status.busy": "2023-04-09T04:18:20.676184Z",
     "iopub.status.idle": "2023-04-09T04:18:20.829176Z",
     "shell.execute_reply": "2023-04-09T04:18:20.828231Z"
    },
    "id": "WYuRq34yONMI",
    "papermill": {
     "duration": 0.163111,
     "end_time": "2023-04-09T04:18:20.831843",
     "exception": false,
     "start_time": "2023-04-09T04:18:20.668732",
     "status": "completed"
    },
    "tags": []
   },
   "outputs": [],
   "source": [
    "import os\n",
    "import cv2\n",
    "\n",
    "def resize_image(image_path):\n",
    "    # Load the image and resize it to 128,128\n",
    "    img = cv2.imread(image_path)\n",
    "    img = cv2.resize(img, (128, 128), interpolation = cv2.INTER_AREA)\n",
    "    return img\n",
    "\n",
    "def read_dataset(dataset_path):\n",
    "    # Create a list to store all the images\n",
    "    images = []\n",
    "    # Create a list to store the labels\n",
    "    labels = []\n",
    "    # Loop through the folders in the dataset path\n",
    "    for folder in os.listdir(dataset_path):\n",
    "        # Check if the folder is either 'Testing' or 'Training'\n",
    "        if folder in ['Testing', 'Training']:\n",
    "            # Create the path to the folder\n",
    "            folder_path = os.path.join(dataset_path, folder)\n",
    "            # Loop through the sub-folders in the folder\n",
    "            for sub_folder in os.listdir(folder_path):\n",
    "                # Check if the sub-folder is one of the four categories\n",
    "                if sub_folder in ['glioma', 'meningioma', 'notumor', 'pituitary']:\n",
    "                    # Create the path to the sub-folder\n",
    "                    sub_folder_path = os.path.join(folder_path, sub_folder)\n",
    "                    # Loop through the images in the sub-folder\n",
    "                    for image_file in os.listdir(sub_folder_path):\n",
    "                        # Check if the image is a .jpg file\n",
    "                        if image_file.endswith('.jpg'):\n",
    "                            # Create the path to the image\n",
    "                            image_path = os.path.join(sub_folder_path, image_file)\n",
    "                            # Resize the image and add it to the list of images\n",
    "                            images.append(resize_image(image_path))\n",
    "                            # Add the label to the list of labels\n",
    "                            labels.append(sub_folder)\n",
    "    return images, labels\n"
   ]
  },
  {
   "cell_type": "code",
   "execution_count": 3,
   "id": "5bda7447",
   "metadata": {
    "execution": {
     "iopub.execute_input": "2023-04-09T04:18:20.847723Z",
     "iopub.status.busy": "2023-04-09T04:18:20.845926Z",
     "iopub.status.idle": "2023-04-09T04:19:17.036080Z",
     "shell.execute_reply": "2023-04-09T04:19:17.034103Z"
    },
    "id": "COmGeq48ONML",
    "papermill": {
     "duration": 56.200854,
     "end_time": "2023-04-09T04:19:17.038951",
     "exception": false,
     "start_time": "2023-04-09T04:18:20.838097",
     "status": "completed"
    },
    "tags": []
   },
   "outputs": [],
   "source": [
    "# Call the read_dataset function to read the dataset\n",
    "images, labels = read_dataset('/kaggle/input/brain-tumor-mri-dataset/')"
   ]
  },
  {
   "cell_type": "code",
   "execution_count": null,
   "id": "305ad0a5",
   "metadata": {
    "id": "NmdrtVkk3Bhl",
    "outputId": "331f4efa-6d06-4693-f604-290e996374d1",
    "papermill": {
     "duration": 0.006216,
     "end_time": "2023-04-09T04:19:17.052091",
     "exception": false,
     "start_time": "2023-04-09T04:19:17.045875",
     "status": "completed"
    },
    "tags": []
   },
   "outputs": [],
   "source": []
  },
  {
   "cell_type": "code",
   "execution_count": 4,
   "id": "5238a8e2",
   "metadata": {
    "execution": {
     "iopub.execute_input": "2023-04-09T04:19:17.066235Z",
     "iopub.status.busy": "2023-04-09T04:19:17.065893Z",
     "iopub.status.idle": "2023-04-09T04:19:17.073613Z",
     "shell.execute_reply": "2023-04-09T04:19:17.072520Z"
    },
    "id": "1cyNqTa4ONMM",
    "papermill": {
     "duration": 0.017433,
     "end_time": "2023-04-09T04:19:17.075870",
     "exception": false,
     "start_time": "2023-04-09T04:19:17.058437",
     "status": "completed"
    },
    "tags": []
   },
   "outputs": [],
   "source": [
    "target = ['glioma', 'meningioma', 'notumor', 'pituitary']\n",
    "\n",
    "def text_to_index(text_labels):\n",
    "    index_labels = []\n",
    "    for label in text_labels:\n",
    "        index_labels.append(target.index(label))\n",
    "    return index_labels\n",
    "\n",
    "labels = text_to_index(labels)\n"
   ]
  },
  {
   "cell_type": "code",
   "execution_count": 5,
   "id": "17d71e4f",
   "metadata": {
    "execution": {
     "iopub.execute_input": "2023-04-09T04:19:17.089920Z",
     "iopub.status.busy": "2023-04-09T04:19:17.089301Z",
     "iopub.status.idle": "2023-04-09T04:19:18.158453Z",
     "shell.execute_reply": "2023-04-09T04:19:18.157230Z"
    },
    "id": "W66dlbGFONMN",
    "outputId": "030c1d72-f6bc-4816-ba06-98e4215a7f03",
    "papermill": {
     "duration": 1.079521,
     "end_time": "2023-04-09T04:19:18.161482",
     "exception": false,
     "start_time": "2023-04-09T04:19:17.081961",
     "status": "completed"
    },
    "tags": []
   },
   "outputs": [
    {
     "name": "stdout",
     "output_type": "stream",
     "text": [
      "(7023, 128, 128, 3) (7023,)\n"
     ]
    }
   ],
   "source": [
    "images=np.array(images)\n",
    "labels=np.array(labels)\n",
    "print(images.shape,labels.shape)\n",
    "images = images / 255.0"
   ]
  },
  {
   "cell_type": "code",
   "execution_count": 6,
   "id": "ffba9c6e",
   "metadata": {
    "execution": {
     "iopub.execute_input": "2023-04-09T04:19:18.179096Z",
     "iopub.status.busy": "2023-04-09T04:19:18.178461Z",
     "iopub.status.idle": "2023-04-09T04:19:18.187064Z",
     "shell.execute_reply": "2023-04-09T04:19:18.185805Z"
    },
    "id": "EdUQ-5Z-ONMO",
    "outputId": "08a63f76-5b08-4f62-aab1-ec87c876479b",
    "papermill": {
     "duration": 0.020008,
     "end_time": "2023-04-09T04:19:18.189953",
     "exception": false,
     "start_time": "2023-04-09T04:19:18.169945",
     "status": "completed"
    },
    "tags": []
   },
   "outputs": [
    {
     "name": "stdout",
     "output_type": "stream",
     "text": [
      "[3 3 3 ... 0 0 0]\n"
     ]
    }
   ],
   "source": [
    "print(labels)"
   ]
  },
  {
   "cell_type": "code",
   "execution_count": null,
   "id": "a810e39c",
   "metadata": {
    "id": "axL9ZIOvONMP",
    "papermill": {
     "duration": 0.006574,
     "end_time": "2023-04-09T04:19:18.203616",
     "exception": false,
     "start_time": "2023-04-09T04:19:18.197042",
     "status": "completed"
    },
    "tags": []
   },
   "outputs": [],
   "source": []
  },
  {
   "cell_type": "code",
   "execution_count": null,
   "id": "db171f13",
   "metadata": {
    "id": "ltkxXVh7ONMP",
    "papermill": {
     "duration": 0.006243,
     "end_time": "2023-04-09T04:19:18.216920",
     "exception": false,
     "start_time": "2023-04-09T04:19:18.210677",
     "status": "completed"
    },
    "tags": []
   },
   "outputs": [],
   "source": []
  },
  {
   "cell_type": "code",
   "execution_count": 7,
   "id": "d3d003c4",
   "metadata": {
    "execution": {
     "iopub.execute_input": "2023-04-09T04:19:18.230743Z",
     "iopub.status.busy": "2023-04-09T04:19:18.230449Z",
     "iopub.status.idle": "2023-04-09T04:19:19.033671Z",
     "shell.execute_reply": "2023-04-09T04:19:19.032602Z"
    },
    "id": "yR6sIjWHONMP",
    "papermill": {
     "duration": 0.81392,
     "end_time": "2023-04-09T04:19:19.037019",
     "exception": false,
     "start_time": "2023-04-09T04:19:18.223099",
     "status": "completed"
    },
    "tags": []
   },
   "outputs": [],
   "source": [
    "from sklearn.model_selection import train_test_split\n",
    "# Split the images and labels into training and testing sets, with a  test size\n",
    "X_train, X_test, y_train, y_test = train_test_split(images,labels, test_size=0.2, random_state=42,stratify=labels)"
   ]
  },
  {
   "cell_type": "code",
   "execution_count": 8,
   "id": "a388d186",
   "metadata": {
    "execution": {
     "iopub.execute_input": "2023-04-09T04:19:19.052250Z",
     "iopub.status.busy": "2023-04-09T04:19:19.051937Z",
     "iopub.status.idle": "2023-04-09T04:19:19.057669Z",
     "shell.execute_reply": "2023-04-09T04:19:19.056630Z"
    },
    "id": "YZNi9TrOONMR",
    "outputId": "3071c082-fb80-4708-8f37-ad7241fb371d",
    "papermill": {
     "duration": 0.015834,
     "end_time": "2023-04-09T04:19:19.060017",
     "exception": false,
     "start_time": "2023-04-09T04:19:19.044183",
     "status": "completed"
    },
    "tags": []
   },
   "outputs": [
    {
     "name": "stdout",
     "output_type": "stream",
     "text": [
      "(5618, 128, 128, 3) (1405, 128, 128, 3) (5618,) (1405,)\n"
     ]
    }
   ],
   "source": [
    "print(X_train.shape, X_test.shape, y_train.shape, y_test.shape)"
   ]
  },
  {
   "cell_type": "code",
   "execution_count": 9,
   "id": "aad270c9",
   "metadata": {
    "execution": {
     "iopub.execute_input": "2023-04-09T04:19:19.075831Z",
     "iopub.status.busy": "2023-04-09T04:19:19.073966Z",
     "iopub.status.idle": "2023-04-09T04:19:23.125212Z",
     "shell.execute_reply": "2023-04-09T04:19:23.123955Z"
    },
    "id": "Ra5IMiTmONMR",
    "papermill": {
     "duration": 4.061478,
     "end_time": "2023-04-09T04:19:23.128022",
     "exception": false,
     "start_time": "2023-04-09T04:19:19.066544",
     "status": "completed"
    },
    "tags": []
   },
   "outputs": [
    {
     "name": "stdout",
     "output_type": "stream",
     "text": [
      "Downloading data from https://storage.googleapis.com/tensorflow/keras-applications/vgg16/vgg16_weights_tf_dim_ordering_tf_kernels_notop.h5\n",
      "58889256/58889256 [==============================] - 0s 0us/step\n"
     ]
    }
   ],
   "source": [
    "import tensorflow as tf\n",
    "from tensorflow.keras.layers import Dense, Dropout, Flatten, GlobalAveragePooling2D, BatchNormalization, Conv2D, MaxPooling2D\n",
    "from tensorflow.keras.regularizers import l2,l1\n",
    "from tensorflow.keras.optimizers import Adam\n",
    "from tensorflow.keras.models import Model\n",
    "from tensorflow.keras.applications import VGG16\n",
    "\n",
    "# Load the InceptionV3 model pre-trained on ImageNet without the top layers\n",
    "# load the VGG16 model\n",
    "base_model = VGG16(weights='imagenet', include_top=False)\n",
    "# Freeze the weights of the base model to prevent them from being updated during training\n",
    "for layer in base_model.layers:\n",
    "    layer.trainable = True"
   ]
  },
  {
   "cell_type": "code",
   "execution_count": null,
   "id": "c07662c9",
   "metadata": {
    "id": "3ocxUjTWONMS",
    "papermill": {
     "duration": 0.007017,
     "end_time": "2023-04-09T04:19:23.142890",
     "exception": false,
     "start_time": "2023-04-09T04:19:23.135873",
     "status": "completed"
    },
    "tags": []
   },
   "outputs": [],
   "source": []
  },
  {
   "cell_type": "code",
   "execution_count": 10,
   "id": "b12cf3fa",
   "metadata": {
    "execution": {
     "iopub.execute_input": "2023-04-09T04:19:23.158849Z",
     "iopub.status.busy": "2023-04-09T04:19:23.158485Z",
     "iopub.status.idle": "2023-04-09T04:19:23.199982Z",
     "shell.execute_reply": "2023-04-09T04:19:23.199004Z"
    },
    "id": "mR5rH5PNONMS",
    "outputId": "192dad68-052f-4fe7-9e0c-513d29336a72",
    "papermill": {
     "duration": 0.051804,
     "end_time": "2023-04-09T04:19:23.202133",
     "exception": false,
     "start_time": "2023-04-09T04:19:23.150329",
     "status": "completed"
    },
    "tags": []
   },
   "outputs": [],
   "source": [
    "\n",
    "x =base_model.output\n",
    "# Add remaining layers\n",
    "x = GlobalAveragePooling2D()(x)\n",
    "x = Dense(1024, activation='relu', kernel_regularizer=l2(0.01))(x)\n",
    "predictions = Dense(4, activation='softmax')(x)\n",
    "\n",
    "# Define the model\n",
    "model = Model(inputs=base_model.input, outputs=predictions)\n"
   ]
  },
  {
   "cell_type": "code",
   "execution_count": null,
   "id": "f86e608d",
   "metadata": {
    "id": "BUa5B3eFONMT",
    "papermill": {
     "duration": 0.006896,
     "end_time": "2023-04-09T04:19:23.216504",
     "exception": false,
     "start_time": "2023-04-09T04:19:23.209608",
     "status": "completed"
    },
    "tags": []
   },
   "outputs": [],
   "source": []
  },
  {
   "cell_type": "code",
   "execution_count": 11,
   "id": "5a495d9b",
   "metadata": {
    "execution": {
     "iopub.execute_input": "2023-04-09T04:19:23.231946Z",
     "iopub.status.busy": "2023-04-09T04:19:23.231463Z",
     "iopub.status.idle": "2023-04-09T04:19:23.247898Z",
     "shell.execute_reply": "2023-04-09T04:19:23.247014Z"
    },
    "id": "5b0VZhEdONMU",
    "outputId": "c91d5252-647a-4261-c1c1-ad027b79df90",
    "papermill": {
     "duration": 0.026419,
     "end_time": "2023-04-09T04:19:23.249988",
     "exception": false,
     "start_time": "2023-04-09T04:19:23.223569",
     "status": "completed"
    },
    "tags": []
   },
   "outputs": [],
   "source": [
    "adam = Adam(lr=0.005)\n",
    "model.compile(optimizer=adam, loss='categorical_crossentropy', metrics=['accuracy'])"
   ]
  },
  {
   "cell_type": "code",
   "execution_count": 12,
   "id": "9c4cdad8",
   "metadata": {
    "execution": {
     "iopub.execute_input": "2023-04-09T04:19:23.265076Z",
     "iopub.status.busy": "2023-04-09T04:19:23.264769Z",
     "iopub.status.idle": "2023-04-09T04:19:23.271947Z",
     "shell.execute_reply": "2023-04-09T04:19:23.271052Z"
    },
    "id": "NNci1zuAONMU",
    "papermill": {
     "duration": 0.017084,
     "end_time": "2023-04-09T04:19:23.273994",
     "exception": false,
     "start_time": "2023-04-09T04:19:23.256910",
     "status": "completed"
    },
    "tags": []
   },
   "outputs": [],
   "source": [
    "import tensorflow as tf\n",
    "from tensorflow.keras.applications.inception_v3 import InceptionV3\n",
    "from tensorflow.keras.layers import Dense, GlobalAveragePooling2D\n",
    "from tensorflow.keras.models import Model\n",
    "from tensorflow.keras.optimizers import SGD\n",
    "from tensorflow.keras.callbacks import ModelCheckpoint, EarlyStopping, TensorBoard\n",
    "\n",
    "checkpoint = ModelCheckpoint('best_model.h5', save_best_only=True)\n",
    "early_stop = EarlyStopping(patience=20, restore_best_weights=True)\n",
    "tensorboard = TensorBoard(log_dir='./logs')\n"
   ]
  },
  {
   "cell_type": "code",
   "execution_count": null,
   "id": "679cfdc0",
   "metadata": {
    "id": "IrapKoXIONMU",
    "papermill": {
     "duration": 0.007086,
     "end_time": "2023-04-09T04:19:23.287944",
     "exception": false,
     "start_time": "2023-04-09T04:19:23.280858",
     "status": "completed"
    },
    "tags": []
   },
   "outputs": [],
   "source": []
  },
  {
   "cell_type": "code",
   "execution_count": 13,
   "id": "ff7ccd42",
   "metadata": {
    "execution": {
     "iopub.execute_input": "2023-04-09T04:19:23.303978Z",
     "iopub.status.busy": "2023-04-09T04:19:23.303157Z",
     "iopub.status.idle": "2023-04-09T04:19:23.310084Z",
     "shell.execute_reply": "2023-04-09T04:19:23.308788Z"
    },
    "id": "fyrVUfLRONMV",
    "outputId": "e3c94726-8cea-4930-d8fd-74292dc94fd3",
    "papermill": {
     "duration": 0.016973,
     "end_time": "2023-04-09T04:19:23.312214",
     "exception": false,
     "start_time": "2023-04-09T04:19:23.295241",
     "status": "completed"
    },
    "tags": []
   },
   "outputs": [
    {
     "name": "stdout",
     "output_type": "stream",
     "text": [
      "Label size (5618, 4)\n",
      "Label size (1405, 4)\n"
     ]
    }
   ],
   "source": [
    "y_train = to_categorical(y_train)\n",
    "print(f\"Label size {y_train.shape}\")\n",
    "y_test = to_categorical(y_test)\n",
    "print(f\"Label size {y_test.shape}\")"
   ]
  },
  {
   "cell_type": "code",
   "execution_count": 14,
   "id": "9686d102",
   "metadata": {
    "execution": {
     "iopub.execute_input": "2023-04-09T04:19:23.327857Z",
     "iopub.status.busy": "2023-04-09T04:19:23.327066Z",
     "iopub.status.idle": "2023-04-09T04:19:24.312430Z",
     "shell.execute_reply": "2023-04-09T04:19:24.311210Z"
    },
    "id": "jMaVXXrlONMW",
    "papermill": {
     "duration": 0.996338,
     "end_time": "2023-04-09T04:19:24.315497",
     "exception": false,
     "start_time": "2023-04-09T04:19:23.319159",
     "status": "completed"
    },
    "tags": []
   },
   "outputs": [],
   "source": [
    "\n",
    "from keras.preprocessing.image import ImageDataGenerator\n",
    "\n",
    "# Create an instance of ImageDataGenerator with rotation and flip parameters\n",
    "datagen = ImageDataGenerator(rotation_range=15, horizontal_flip=True, vertical_flip=True)\n",
    "# Fit the generator to your training data\n",
    "datagen.fit(X_train)\n"
   ]
  },
  {
   "cell_type": "code",
   "execution_count": 15,
   "id": "054f6f5c",
   "metadata": {
    "execution": {
     "iopub.execute_input": "2023-04-09T04:19:24.331377Z",
     "iopub.status.busy": "2023-04-09T04:19:24.331056Z",
     "iopub.status.idle": "2023-04-09T05:08:32.542869Z",
     "shell.execute_reply": "2023-04-09T05:08:32.541774Z"
    },
    "id": "l5TR0W0ZONMX",
    "outputId": "c0bdaf23-1303-4221-fbd0-5b99cd4a590c",
    "papermill": {
     "duration": 2949.228294,
     "end_time": "2023-04-09T05:08:33.551025",
     "exception": false,
     "start_time": "2023-04-09T04:19:24.322731",
     "status": "completed"
    },
    "tags": []
   },
   "outputs": [
    {
     "name": "stdout",
     "output_type": "stream",
     "text": [
      "Epoch 1/100\n",
      "176/176 [==============================] - 53s 203ms/step - loss: 2.7813 - accuracy: 0.3195 - val_loss: 1.5651 - val_accuracy: 0.5267\n",
      "Epoch 2/100\n",
      "176/176 [==============================] - 31s 174ms/step - loss: 1.4498 - accuracy: 0.5189 - val_loss: 1.1876 - val_accuracy: 0.6157\n",
      "Epoch 3/100\n",
      "176/176 [==============================] - 30s 171ms/step - loss: 1.0472 - accuracy: 0.6839 - val_loss: 1.1991 - val_accuracy: 0.5943\n",
      "Epoch 4/100\n",
      "176/176 [==============================] - 31s 176ms/step - loss: 0.8000 - accuracy: 0.7565 - val_loss: 0.7553 - val_accuracy: 0.7730\n",
      "Epoch 5/100\n",
      "176/176 [==============================] - 30s 170ms/step - loss: 0.7124 - accuracy: 0.7736 - val_loss: 0.6425 - val_accuracy: 0.8000\n",
      "Epoch 6/100\n",
      "176/176 [==============================] - 30s 171ms/step - loss: 0.6232 - accuracy: 0.8035 - val_loss: 0.5277 - val_accuracy: 0.8313\n",
      "Epoch 7/100\n",
      "176/176 [==============================] - 29s 167ms/step - loss: 0.5324 - accuracy: 0.8313 - val_loss: 0.5625 - val_accuracy: 0.8028\n",
      "Epoch 8/100\n",
      "176/176 [==============================] - 30s 172ms/step - loss: 0.4640 - accuracy: 0.8528 - val_loss: 0.5295 - val_accuracy: 0.8320\n",
      "Epoch 9/100\n",
      "176/176 [==============================] - 30s 172ms/step - loss: 0.4225 - accuracy: 0.8645 - val_loss: 0.4277 - val_accuracy: 0.8648\n",
      "Epoch 10/100\n",
      "176/176 [==============================] - 30s 171ms/step - loss: 0.3867 - accuracy: 0.8731 - val_loss: 0.3764 - val_accuracy: 0.8897\n",
      "Epoch 11/100\n",
      "176/176 [==============================] - 31s 175ms/step - loss: 0.3282 - accuracy: 0.8957 - val_loss: 0.2947 - val_accuracy: 0.9139\n",
      "Epoch 12/100\n",
      "176/176 [==============================] - 30s 168ms/step - loss: 0.3167 - accuracy: 0.8960 - val_loss: 0.3051 - val_accuracy: 0.9068\n",
      "Epoch 13/100\n",
      "176/176 [==============================] - 31s 176ms/step - loss: 0.2743 - accuracy: 0.9128 - val_loss: 0.2283 - val_accuracy: 0.9246\n",
      "Epoch 14/100\n",
      "176/176 [==============================] - 31s 176ms/step - loss: 0.3093 - accuracy: 0.8985 - val_loss: 0.3119 - val_accuracy: 0.8947\n",
      "Epoch 15/100\n",
      "176/176 [==============================] - 30s 171ms/step - loss: 0.2513 - accuracy: 0.9229 - val_loss: 0.2704 - val_accuracy: 0.9053\n",
      "Epoch 16/100\n",
      "176/176 [==============================] - 29s 165ms/step - loss: 0.2394 - accuracy: 0.9188 - val_loss: 0.2794 - val_accuracy: 0.9018\n",
      "Epoch 17/100\n",
      "176/176 [==============================] - 30s 171ms/step - loss: 0.2248 - accuracy: 0.9272 - val_loss: 0.2013 - val_accuracy: 0.9345\n",
      "Epoch 18/100\n",
      "176/176 [==============================] - 29s 166ms/step - loss: 0.2082 - accuracy: 0.9309 - val_loss: 0.2297 - val_accuracy: 0.9238\n",
      "Epoch 19/100\n",
      "176/176 [==============================] - 30s 170ms/step - loss: 0.1941 - accuracy: 0.9382 - val_loss: 0.1953 - val_accuracy: 0.9324\n",
      "Epoch 20/100\n",
      "176/176 [==============================] - 30s 168ms/step - loss: 0.1859 - accuracy: 0.9370 - val_loss: 0.2058 - val_accuracy: 0.9367\n",
      "Epoch 21/100\n",
      "176/176 [==============================] - 30s 171ms/step - loss: 0.1821 - accuracy: 0.9370 - val_loss: 0.1707 - val_accuracy: 0.9423\n",
      "Epoch 22/100\n",
      "176/176 [==============================] - 29s 163ms/step - loss: 0.1725 - accuracy: 0.9425 - val_loss: 0.2407 - val_accuracy: 0.9288\n",
      "Epoch 23/100\n",
      "176/176 [==============================] - 30s 171ms/step - loss: 0.1844 - accuracy: 0.9409 - val_loss: 0.1836 - val_accuracy: 0.9345\n",
      "Epoch 24/100\n",
      "176/176 [==============================] - 31s 174ms/step - loss: 0.1799 - accuracy: 0.9441 - val_loss: 0.1606 - val_accuracy: 0.9480\n",
      "Epoch 25/100\n",
      "176/176 [==============================] - 30s 171ms/step - loss: 0.1545 - accuracy: 0.9509 - val_loss: 0.1361 - val_accuracy: 0.9559\n",
      "Epoch 26/100\n",
      "176/176 [==============================] - 30s 171ms/step - loss: 0.1511 - accuracy: 0.9512 - val_loss: 0.1676 - val_accuracy: 0.9409\n",
      "Epoch 27/100\n",
      "176/176 [==============================] - 30s 172ms/step - loss: 0.1318 - accuracy: 0.9589 - val_loss: 0.1468 - val_accuracy: 0.9509\n",
      "Epoch 28/100\n",
      "176/176 [==============================] - 29s 167ms/step - loss: 0.1877 - accuracy: 0.9416 - val_loss: 0.2127 - val_accuracy: 0.9331\n",
      "Epoch 29/100\n",
      "176/176 [==============================] - 30s 171ms/step - loss: 0.1340 - accuracy: 0.9559 - val_loss: 0.2671 - val_accuracy: 0.9181\n",
      "Epoch 30/100\n",
      "176/176 [==============================] - 29s 167ms/step - loss: 0.1343 - accuracy: 0.9569 - val_loss: 0.1718 - val_accuracy: 0.9473\n",
      "Epoch 31/100\n",
      "176/176 [==============================] - 29s 166ms/step - loss: 0.1133 - accuracy: 0.9653 - val_loss: 0.1509 - val_accuracy: 0.9544\n",
      "Epoch 32/100\n",
      "176/176 [==============================] - 30s 173ms/step - loss: 0.1134 - accuracy: 0.9646 - val_loss: 0.2013 - val_accuracy: 0.9367\n",
      "Epoch 33/100\n",
      "176/176 [==============================] - 30s 173ms/step - loss: 0.1231 - accuracy: 0.9617 - val_loss: 0.1518 - val_accuracy: 0.9509\n",
      "Epoch 34/100\n",
      "176/176 [==============================] - 30s 171ms/step - loss: 0.1102 - accuracy: 0.9635 - val_loss: 0.1478 - val_accuracy: 0.9544\n",
      "Epoch 35/100\n",
      "176/176 [==============================] - 31s 174ms/step - loss: 0.1245 - accuracy: 0.9610 - val_loss: 0.1270 - val_accuracy: 0.9573\n",
      "Epoch 36/100\n",
      "176/176 [==============================] - 30s 168ms/step - loss: 0.1040 - accuracy: 0.9669 - val_loss: 0.2004 - val_accuracy: 0.9445\n",
      "Epoch 37/100\n",
      "176/176 [==============================] - 29s 167ms/step - loss: 0.0996 - accuracy: 0.9692 - val_loss: 0.1633 - val_accuracy: 0.9495\n",
      "Epoch 38/100\n",
      "176/176 [==============================] - 30s 167ms/step - loss: 0.0990 - accuracy: 0.9703 - val_loss: 0.2293 - val_accuracy: 0.9352\n",
      "Epoch 39/100\n",
      "176/176 [==============================] - 30s 171ms/step - loss: 0.0991 - accuracy: 0.9694 - val_loss: 0.1855 - val_accuracy: 0.9431\n",
      "Epoch 40/100\n",
      "176/176 [==============================] - 30s 168ms/step - loss: 0.0897 - accuracy: 0.9745 - val_loss: 0.1366 - val_accuracy: 0.9623\n",
      "Epoch 41/100\n",
      "176/176 [==============================] - 29s 164ms/step - loss: 0.0961 - accuracy: 0.9701 - val_loss: 0.2867 - val_accuracy: 0.9203\n",
      "Epoch 42/100\n",
      "176/176 [==============================] - 30s 172ms/step - loss: 0.1013 - accuracy: 0.9674 - val_loss: 0.1048 - val_accuracy: 0.9680\n",
      "Epoch 43/100\n",
      "176/176 [==============================] - 31s 175ms/step - loss: 0.0855 - accuracy: 0.9726 - val_loss: 0.1012 - val_accuracy: 0.9722\n",
      "Epoch 44/100\n",
      "176/176 [==============================] - 30s 172ms/step - loss: 0.1148 - accuracy: 0.9632 - val_loss: 0.2253 - val_accuracy: 0.9331\n",
      "Epoch 45/100\n",
      "176/176 [==============================] - 29s 166ms/step - loss: 0.0998 - accuracy: 0.9660 - val_loss: 0.1414 - val_accuracy: 0.9523\n",
      "Epoch 46/100\n",
      "176/176 [==============================] - 30s 168ms/step - loss: 0.0852 - accuracy: 0.9724 - val_loss: 0.1157 - val_accuracy: 0.9680\n",
      "Epoch 47/100\n",
      "176/176 [==============================] - 29s 166ms/step - loss: 0.0735 - accuracy: 0.9794 - val_loss: 0.1072 - val_accuracy: 0.9680\n",
      "Epoch 48/100\n",
      "176/176 [==============================] - 29s 163ms/step - loss: 0.0897 - accuracy: 0.9722 - val_loss: 0.1620 - val_accuracy: 0.9480\n",
      "Epoch 49/100\n",
      "176/176 [==============================] - 30s 169ms/step - loss: 0.0834 - accuracy: 0.9706 - val_loss: 0.1210 - val_accuracy: 0.9665\n",
      "Epoch 50/100\n",
      "176/176 [==============================] - 31s 178ms/step - loss: 0.0847 - accuracy: 0.9728 - val_loss: 0.0872 - val_accuracy: 0.9722\n",
      "Epoch 51/100\n",
      "176/176 [==============================] - 30s 170ms/step - loss: 0.0843 - accuracy: 0.9740 - val_loss: 0.2208 - val_accuracy: 0.9367\n",
      "Epoch 52/100\n",
      "176/176 [==============================] - 30s 168ms/step - loss: 0.0873 - accuracy: 0.9738 - val_loss: 0.1619 - val_accuracy: 0.9580\n",
      "Epoch 53/100\n",
      "176/176 [==============================] - 30s 169ms/step - loss: 0.0757 - accuracy: 0.9776 - val_loss: 0.1005 - val_accuracy: 0.9722\n",
      "Epoch 54/100\n",
      "176/176 [==============================] - 30s 171ms/step - loss: 0.0825 - accuracy: 0.9758 - val_loss: 0.0829 - val_accuracy: 0.9758\n",
      "Epoch 55/100\n",
      "176/176 [==============================] - 30s 168ms/step - loss: 0.0604 - accuracy: 0.9822 - val_loss: 0.1580 - val_accuracy: 0.9544\n",
      "Epoch 56/100\n",
      "176/176 [==============================] - 30s 169ms/step - loss: 0.0739 - accuracy: 0.9783 - val_loss: 0.1223 - val_accuracy: 0.9587\n",
      "Epoch 57/100\n",
      "176/176 [==============================] - 30s 170ms/step - loss: 0.0760 - accuracy: 0.9767 - val_loss: 0.1249 - val_accuracy: 0.9580\n",
      "Epoch 58/100\n",
      "176/176 [==============================] - 30s 172ms/step - loss: 0.0601 - accuracy: 0.9822 - val_loss: 0.1197 - val_accuracy: 0.9609\n",
      "Epoch 59/100\n",
      "176/176 [==============================] - 30s 169ms/step - loss: 0.0996 - accuracy: 0.9712 - val_loss: 0.0965 - val_accuracy: 0.9687\n",
      "Epoch 60/100\n",
      "176/176 [==============================] - 30s 167ms/step - loss: 0.0715 - accuracy: 0.9786 - val_loss: 0.1312 - val_accuracy: 0.9694\n",
      "Epoch 61/100\n",
      "176/176 [==============================] - 30s 168ms/step - loss: 0.1145 - accuracy: 0.9662 - val_loss: 0.1240 - val_accuracy: 0.9680\n",
      "Epoch 62/100\n",
      "176/176 [==============================] - 29s 165ms/step - loss: 0.0777 - accuracy: 0.9776 - val_loss: 0.1712 - val_accuracy: 0.9431\n",
      "Epoch 63/100\n",
      "176/176 [==============================] - 29s 165ms/step - loss: 0.0720 - accuracy: 0.9815 - val_loss: 0.1074 - val_accuracy: 0.9708\n",
      "Epoch 64/100\n",
      "176/176 [==============================] - 30s 168ms/step - loss: 0.0893 - accuracy: 0.9731 - val_loss: 0.0872 - val_accuracy: 0.9758\n",
      "Epoch 65/100\n",
      "176/176 [==============================] - 30s 171ms/step - loss: 0.0609 - accuracy: 0.9831 - val_loss: 0.1018 - val_accuracy: 0.9687\n",
      "Epoch 66/100\n",
      "176/176 [==============================] - 30s 172ms/step - loss: 0.0635 - accuracy: 0.9811 - val_loss: 0.1108 - val_accuracy: 0.9708\n",
      "Epoch 67/100\n",
      "176/176 [==============================] - 30s 167ms/step - loss: 0.0725 - accuracy: 0.9806 - val_loss: 0.1192 - val_accuracy: 0.9637\n",
      "Epoch 68/100\n",
      "176/176 [==============================] - 29s 167ms/step - loss: 0.0675 - accuracy: 0.9794 - val_loss: 0.1118 - val_accuracy: 0.9765\n",
      "Epoch 69/100\n",
      "176/176 [==============================] - 30s 171ms/step - loss: 0.0696 - accuracy: 0.9824 - val_loss: 0.0683 - val_accuracy: 0.9772\n",
      "Epoch 70/100\n",
      "176/176 [==============================] - 30s 172ms/step - loss: 0.0634 - accuracy: 0.9813 - val_loss: 0.0759 - val_accuracy: 0.9779\n",
      "Epoch 71/100\n",
      "176/176 [==============================] - 30s 170ms/step - loss: 0.0803 - accuracy: 0.9781 - val_loss: 0.1551 - val_accuracy: 0.9488\n",
      "Epoch 72/100\n",
      "176/176 [==============================] - 30s 172ms/step - loss: 0.0715 - accuracy: 0.9794 - val_loss: 0.0921 - val_accuracy: 0.9744\n",
      "Epoch 73/100\n",
      "176/176 [==============================] - 30s 167ms/step - loss: 0.0590 - accuracy: 0.9831 - val_loss: 0.1714 - val_accuracy: 0.9544\n",
      "Epoch 74/100\n",
      "176/176 [==============================] - 30s 172ms/step - loss: 0.0563 - accuracy: 0.9842 - val_loss: 0.0943 - val_accuracy: 0.9694\n",
      "Epoch 75/100\n",
      "176/176 [==============================] - 30s 170ms/step - loss: 0.0427 - accuracy: 0.9877 - val_loss: 0.0671 - val_accuracy: 0.9786\n",
      "Epoch 76/100\n",
      "176/176 [==============================] - 30s 171ms/step - loss: 0.0562 - accuracy: 0.9831 - val_loss: 0.0783 - val_accuracy: 0.9758\n",
      "Epoch 77/100\n",
      "176/176 [==============================] - 29s 166ms/step - loss: 0.0469 - accuracy: 0.9859 - val_loss: 0.1300 - val_accuracy: 0.9658\n",
      "Epoch 78/100\n",
      "176/176 [==============================] - 29s 164ms/step - loss: 0.0872 - accuracy: 0.9761 - val_loss: 0.0940 - val_accuracy: 0.9730\n",
      "Epoch 79/100\n",
      "176/176 [==============================] - 30s 168ms/step - loss: 0.0734 - accuracy: 0.9792 - val_loss: 0.1087 - val_accuracy: 0.9687\n",
      "Epoch 80/100\n",
      "176/176 [==============================] - 30s 168ms/step - loss: 0.0548 - accuracy: 0.9827 - val_loss: 0.1098 - val_accuracy: 0.9701\n",
      "Epoch 81/100\n",
      "176/176 [==============================] - 30s 167ms/step - loss: 0.0587 - accuracy: 0.9817 - val_loss: 0.1046 - val_accuracy: 0.9722\n",
      "Epoch 82/100\n",
      "176/176 [==============================] - 30s 171ms/step - loss: 0.0545 - accuracy: 0.9834 - val_loss: 0.1020 - val_accuracy: 0.9751\n",
      "Epoch 83/100\n",
      "176/176 [==============================] - 30s 169ms/step - loss: 0.0498 - accuracy: 0.9867 - val_loss: 0.1313 - val_accuracy: 0.9623\n",
      "Epoch 84/100\n",
      "176/176 [==============================] - 30s 169ms/step - loss: 0.0438 - accuracy: 0.9868 - val_loss: 0.0920 - val_accuracy: 0.9715\n",
      "Epoch 85/100\n",
      "176/176 [==============================] - 30s 170ms/step - loss: 0.0535 - accuracy: 0.9850 - val_loss: 0.0778 - val_accuracy: 0.9815\n",
      "Epoch 86/100\n",
      "176/176 [==============================] - 31s 173ms/step - loss: 0.0435 - accuracy: 0.9883 - val_loss: 0.1034 - val_accuracy: 0.9758\n",
      "Epoch 87/100\n",
      "176/176 [==============================] - 31s 174ms/step - loss: 0.0487 - accuracy: 0.9870 - val_loss: 0.0873 - val_accuracy: 0.9758\n",
      "Epoch 88/100\n",
      "176/176 [==============================] - 30s 169ms/step - loss: 0.0370 - accuracy: 0.9909 - val_loss: 0.0975 - val_accuracy: 0.9737\n",
      "Epoch 89/100\n",
      "176/176 [==============================] - 30s 169ms/step - loss: 0.0674 - accuracy: 0.9817 - val_loss: 0.0910 - val_accuracy: 0.9730\n",
      "Epoch 90/100\n",
      "176/176 [==============================] - 30s 173ms/step - loss: 0.0582 - accuracy: 0.9843 - val_loss: 0.1057 - val_accuracy: 0.9680\n",
      "Epoch 91/100\n",
      "176/176 [==============================] - 30s 171ms/step - loss: 0.0657 - accuracy: 0.9822 - val_loss: 0.1324 - val_accuracy: 0.9658\n",
      "Epoch 92/100\n",
      "176/176 [==============================] - 29s 165ms/step - loss: 0.0770 - accuracy: 0.9799 - val_loss: 0.2168 - val_accuracy: 0.9388\n",
      "Epoch 93/100\n",
      "176/176 [==============================] - 30s 168ms/step - loss: 0.0577 - accuracy: 0.9836 - val_loss: 0.0950 - val_accuracy: 0.9772\n",
      "Epoch 94/100\n",
      "176/176 [==============================] - 29s 166ms/step - loss: 0.0662 - accuracy: 0.9820 - val_loss: 0.3075 - val_accuracy: 0.9174\n",
      "Epoch 95/100\n",
      "176/176 [==============================] - 30s 172ms/step - loss: 0.0440 - accuracy: 0.9884 - val_loss: 0.1465 - val_accuracy: 0.9644\n",
      "Total time taken:  2948.2044639587402  seconds\n"
     ]
    }
   ],
   "source": [
    "import time\n",
    "\n",
    "# start time\n",
    "start_time = time.time()\n",
    "\n",
    "\n",
    "history = model.fit(datagen.flow(X_train, y_train, batch_size=32), validation_data=(X_test, y_test), epochs=100, batch_size=32, callbacks=[checkpoint, early_stop])\n",
    "\n",
    "# end time\n",
    "end_time = time.time()\n",
    "\n",
    "# calculate total time taken\n",
    "total_time = end_time - start_time\n",
    "\n",
    "print(\"Total time taken: \", total_time, \" seconds\")"
   ]
  },
  {
   "cell_type": "code",
   "execution_count": 16,
   "id": "17b35e9b",
   "metadata": {
    "execution": {
     "iopub.execute_input": "2023-04-09T05:08:35.504095Z",
     "iopub.status.busy": "2023-04-09T05:08:35.503314Z",
     "iopub.status.idle": "2023-04-09T05:08:36.101682Z",
     "shell.execute_reply": "2023-04-09T05:08:36.100642Z"
    },
    "id": "N9l3MPciONMX",
    "outputId": "3dbae8b9-0ff2-4124-98f3-4ec92f01a792",
    "papermill": {
     "duration": 1.618123,
     "end_time": "2023-04-09T05:08:36.107024",
     "exception": false,
     "start_time": "2023-04-09T05:08:34.488901",
     "status": "completed"
    },
    "tags": []
   },
   "outputs": [
    {
     "data": {
      "image/png": "[encoded data removed]",
      "text/plain": [
       "<Figure size 640x480 with 1 Axes>"
      ]
     },
     "metadata": {},
     "output_type": "display_data"
    },
    {
     "data": {
      "image/png": "[encoded data removed]",
      "text/plain": [
       "<Figure size 640x480 with 1 Axes>"
      ]
     },
     "metadata": {},
     "output_type": "display_data"
    }
   ],
   "source": [
    "import matplotlib.pyplot as plt\n",
    "\n",
    "plt.plot(history.history['accuracy'], label='train accuracy')\n",
    "plt.plot(history.history['val_accuracy'], label='validation accuracy')\n",
    "plt.legend()\n",
    "plt.show()\n",
    "\n",
    "plt.plot(history.history['loss'], label='train loss')\n",
    "plt.plot(history.history['val_loss'], label='validation loss')\n",
    "plt.legend()\n",
    "plt.show()\n"
   ]
  },
  {
   "cell_type": "code",
   "execution_count": 17,
   "id": "18905173",
   "metadata": {
    "execution": {
     "iopub.execute_input": "2023-04-09T05:08:38.507201Z",
     "iopub.status.busy": "2023-04-09T05:08:38.506756Z",
     "iopub.status.idle": "2023-04-09T05:08:41.364446Z",
     "shell.execute_reply": "2023-04-09T05:08:41.363335Z"
    },
    "id": "ckFVLTE6ONMX",
    "outputId": "154deaa1-c501-4a10-aa56-e4b99acdd2ba",
    "papermill": {
     "duration": 3.868976,
     "end_time": "2023-04-09T05:08:41.366923",
     "exception": false,
     "start_time": "2023-04-09T05:08:37.497947",
     "status": "completed"
    },
    "tags": []
   },
   "outputs": [
    {
     "name": "stdout",
     "output_type": "stream",
     "text": [
      "44/44 [==============================] - 2s 40ms/step\n"
     ]
    }
   ],
   "source": [
    "y_pred = model.predict(X_test)"
   ]
  },
  {
   "cell_type": "code",
   "execution_count": 18,
   "id": "f9ecff23",
   "metadata": {
    "execution": {
     "iopub.execute_input": "2023-04-09T05:08:43.287342Z",
     "iopub.status.busy": "2023-04-09T05:08:43.286243Z",
     "iopub.status.idle": "2023-04-09T05:08:47.066713Z",
     "shell.execute_reply": "2023-04-09T05:08:47.065648Z"
    },
    "id": "ynO78lNGONMY",
    "jupyter": {
     "source_hidden": true
    },
    "outputId": "4e475e5c-f60e-4b0c-90f3-f93c566ae406",
    "papermill": {
     "duration": 4.770209,
     "end_time": "2023-04-09T05:08:47.069438",
     "exception": false,
     "start_time": "2023-04-09T05:08:42.299229",
     "status": "completed"
    },
    "tags": []
   },
   "outputs": [
    {
     "name": "stdout",
     "output_type": "stream",
     "text": [
      "44/44 [==============================] - 2s 39ms/step\n"
     ]
    },
    {
     "data": {
      "image/png": "[encoded data removed]",
      "text/plain": [
       "<Figure size 640x480 with 1 Axes>"
      ]
     },
     "metadata": {},
     "output_type": "display_data"
    }
   ],
   "source": [
    "from sklearn.metrics import roc_curve, auc\n",
    "from sklearn.preprocessing import label_binarize\n",
    "import matplotlib.pyplot as plt\n",
    "\n",
    "# Binarize the labels\n",
    "y_test_bin = label_binarize(y_test, classes=[0, 1, 2, 3])\n",
    "\n",
    "# Compute the predicted probabilities for each class\n",
    "probas = model.predict(X_test)\n",
    "\n",
    "# Compute the ROC curve and ROC area for each class\n",
    "fpr = dict()\n",
    "tpr = dict()\n",
    "roc_auc = dict()\n",
    "for i in range(4):\n",
    "    fpr[i], tpr[i], _ = roc_curve(y_test_bin[:, i], probas[:, i])\n",
    "    roc_auc[i] = auc(fpr[i], tpr[i])\n",
    "\n",
    "# Compute micro-average ROC curve and ROC area\n",
    "fpr[\"micro\"], tpr[\"micro\"], _ = roc_curve(y_test_bin.ravel(), probas.ravel())\n",
    "roc_auc[\"micro\"] = auc(fpr[\"micro\"], tpr[\"micro\"])\n",
    "\n",
    "# Plot the ROC curves\n",
    "plt.figure()\n",
    "lw = 2\n",
    "plt.plot(fpr[\"micro\"], tpr[\"micro\"], color='deeppink', lw=lw, label='micro-average ROC curve (area = {0:0.2f})'\n",
    "         ''.format(roc_auc[\"micro\"]))\n",
    "colors = ['aqua', 'darkorange', 'cornflowerblue', 'purple']\n",
    "for i, color in zip(range(4), colors):\n",
    "    plt.plot(fpr[i], tpr[i], color=color, lw=lw,\n",
    "             label='ROC curve of class {0} (area = {1:0.2f})'\n",
    "             ''.format(i, roc_auc[i]))\n",
    "plt.plot([0, 1], [0, 1], 'k--', lw=lw)\n",
    "plt.xlim([0.0, 1.0])\n",
    "plt.ylim([0.0, 1.05])\n",
    "plt.xlabel('False Positive Rate')\n",
    "plt.ylabel('True Positive Rate')\n",
    "plt.title('ROC curve')\n",
    "plt.legend(loc=\"lower right\")\n",
    "plt.show()\n"
   ]
  },
  {
   "cell_type": "code",
   "execution_count": null,
   "id": "bafc775f",
   "metadata": {
    "id": "6FegY7eQONMY",
    "papermill": {
     "duration": 0.927142,
     "end_time": "2023-04-09T05:08:49.087017",
     "exception": false,
     "start_time": "2023-04-09T05:08:48.159875",
     "status": "completed"
    },
    "tags": []
   },
   "outputs": [],
   "source": []
  },
  {
   "cell_type": "code",
   "execution_count": 19,
   "id": "e6239ed3",
   "metadata": {
    "execution": {
     "iopub.execute_input": "2023-04-09T05:08:51.026950Z",
     "iopub.status.busy": "2023-04-09T05:08:51.026542Z",
     "iopub.status.idle": "2023-04-09T05:08:51.036192Z",
     "shell.execute_reply": "2023-04-09T05:08:51.035105Z"
    },
    "id": "1Gw5GQvVONMZ",
    "papermill": {
     "duration": 0.945738,
     "end_time": "2023-04-09T05:08:51.038310",
     "exception": false,
     "start_time": "2023-04-09T05:08:50.092572",
     "status": "completed"
    },
    "tags": []
   },
   "outputs": [],
   "source": [
    "import numpy as np\n",
    "import matplotlib.pyplot as plt\n",
    "import seaborn as sns\n",
    "from sklearn.metrics import confusion_matrix, classification_report,accuracy_score,cohen_kappa_score\n",
    "\n",
    "def evaluate_model(model, X_test, y_test, labels):\n",
    "    # Make predictions on test data\n",
    "    y_pred = model.predict(X_test)\n",
    "    y_pred_labels = np.argmax(y_pred, axis=1)\n",
    "    y_test_labels = np.argmax(y_test, axis=1)\n",
    "\n",
    "    # Calculate the metrics\n",
    "    loss, accuracy = model.evaluate(X_test, y_test)\n",
    "    precision = accuracy_score(y_test_labels, y_pred_labels)*100\n",
    "    kappa = cohen_kappa_score(y_test_labels, y_pred_labels)*100\n",
    "    classification = classification_report(y_test_labels, y_pred_labels, target_names=labels)\n",
    "    confusion = confusion_matrix(y_test_labels, y_pred_labels)\n",
    "    accuracy=accuracy*100\n",
    "    # Plot the confusion matrix\n",
    "    fig, ax = plt.subplots(figsize=(10, 8))\n",
    "    sns.heatmap(confusion, annot=True, cmap=\"Blues\", fmt=\"d\", xticklabels=labels, yticklabels=labels)\n",
    "    ax.set_xlabel(\"Predicted Labels\")\n",
    "    ax.set_ylabel(\"True Labels\")\n",
    "    ax.set_title(\"Confusion Matrix\")\n",
    "    plt.show()\n",
    "\n",
    "    # Print the classification report\n",
    "    print(\"Classification Report:\\n\", classification)\n",
    "\n",
    "    # Print the metrics\n",
    "    print(f\"Loss: {loss:.4f}\")\n",
    "    print(f\"Accuracy: {accuracy:.4f}\")\n",
    "    print(f\"Precision: {precision:.4f}\")\n",
    "    print(f\"Kappa Score: {kappa:.4f}\")\n",
    "    return confusion, classification"
   ]
  },
  {
   "cell_type": "code",
   "execution_count": 20,
   "id": "2a66c3ee",
   "metadata": {
    "execution": {
     "iopub.execute_input": "2023-04-09T05:08:53.008758Z",
     "iopub.status.busy": "2023-04-09T05:08:53.008365Z",
     "iopub.status.idle": "2023-04-09T05:08:59.211883Z",
     "shell.execute_reply": "2023-04-09T05:08:59.210839Z"
    },
    "id": "8Z3icNvZONMZ",
    "outputId": "b3bb26d8-a744-4658-b450-a2a13172bf15",
    "papermill": {
     "duration": 7.200494,
     "end_time": "2023-04-09T05:08:59.213965",
     "exception": false,
     "start_time": "2023-04-09T05:08:52.013471",
     "status": "completed"
    },
    "tags": []
   },
   "outputs": [
    {
     "name": "stdout",
     "output_type": "stream",
     "text": [
      "44/44 [==============================] - 2s 40ms/step\n",
      "44/44 [==============================] - 2s 41ms/step - loss: 0.0671 - accuracy: 0.9786\n"
     ]
    },
    {
     "data": {
      "image/png": "[encoded data removed]",
      "text/plain": [
       "<Figure size 1000x800 with 2 Axes>"
      ]
     },
     "metadata": {},
     "output_type": "display_data"
    },
    {
     "name": "stdout",
     "output_type": "stream",
     "text": [
      "Classification Report:\n",
      "               precision    recall  f1-score   support\n",
      "\n",
      "      glioma       0.96      0.99      0.97       324\n",
      "  meningioma       0.97      0.96      0.96       329\n",
      "     notumor       0.99      0.99      0.99       400\n",
      "   pituitary       0.99      0.98      0.98       352\n",
      "\n",
      "    accuracy                           0.98      1405\n",
      "   macro avg       0.98      0.98      0.98      1405\n",
      "weighted avg       0.98      0.98      0.98      1405\n",
      "\n",
      "Loss: 0.0671\n",
      "Accuracy: 97.8648\n",
      "Precision: 97.8648\n",
      "Kappa Score: 97.1464\n"
     ]
    }
   ],
   "source": [
    "target = ['glioma', 'meningioma', 'notumor', 'pituitary']\n",
    "confusion, classification= evaluate_model(model, X_test, y_test, target)\n"
   ]
  },
  {
   "cell_type": "code",
   "execution_count": 21,
   "id": "70a380f1",
   "metadata": {
    "execution": {
     "iopub.execute_input": "2023-04-09T05:09:01.176708Z",
     "iopub.status.busy": "2023-04-09T05:09:01.175483Z",
     "iopub.status.idle": "2023-04-09T05:09:01.480092Z",
     "shell.execute_reply": "2023-04-09T05:09:01.479019Z"
    },
    "id": "ZIQNT1fMONMa",
    "papermill": {
     "duration": 1.24062,
     "end_time": "2023-04-09T05:09:01.483024",
     "exception": false,
     "start_time": "2023-04-09T05:09:00.242404",
     "status": "completed"
    },
    "tags": []
   },
   "outputs": [],
   "source": [
    "from tensorflow.keras.models import load_model\n",
    "# Save the model to a file\n",
    "model.save('vgg16-tf2.h5')"
   ]
  },
  {
   "cell_type": "code",
   "execution_count": null,
   "id": "081872fc",
   "metadata": {
    "id": "sVKqajdVONMa",
    "papermill": {
     "duration": 0.939007,
     "end_time": "2023-04-09T05:09:03.411643",
     "exception": false,
     "start_time": "2023-04-09T05:09:02.472636",
     "status": "completed"
    },
    "tags": []
   },
   "outputs": [],
   "source": []
  },
  {
   "cell_type": "code",
   "execution_count": 22,
   "id": "2035c9ea",
   "metadata": {
    "execution": {
     "iopub.execute_input": "2023-04-09T05:09:05.436746Z",
     "iopub.status.busy": "2023-04-09T05:09:05.436318Z",
     "iopub.status.idle": "2023-04-09T05:09:05.443982Z",
     "shell.execute_reply": "2023-04-09T05:09:05.442858Z"
    },
    "id": "fwNFzQy_ONMa",
    "outputId": "382ae8e5-f655-4264-dbae-b7684f85fabe",
    "papermill": {
     "duration": 1.036819,
     "end_time": "2023-04-09T05:09:05.447557",
     "exception": false,
     "start_time": "2023-04-09T05:09:04.410738",
     "status": "completed"
    },
    "tags": []
   },
   "outputs": [
    {
     "name": "stdout",
     "output_type": "stream",
     "text": [
      "Trainable layers summary:\n",
      "input_1 True [(None, None, None, 3)]\n",
      "block1_conv1 True (None, None, None, 64)\n",
      "block1_conv2 True (None, None, None, 64)\n",
      "block1_pool True (None, None, None, 64)\n",
      "block2_conv1 True (None, None, None, 128)\n",
      "block2_conv2 True (None, None, None, 128)\n",
      "block2_pool True (None, None, None, 128)\n",
      "block3_conv1 True (None, None, None, 256)\n",
      "block3_conv2 True (None, None, None, 256)\n",
      "block3_conv3 True (None, None, None, 256)\n",
      "block3_pool True (None, None, None, 256)\n",
      "block4_conv1 True (None, None, None, 512)\n",
      "block4_conv2 True (None, None, None, 512)\n",
      "block4_conv3 True (None, None, None, 512)\n",
      "block4_pool True (None, None, None, 512)\n",
      "block5_conv1 True (None, None, None, 512)\n",
      "block5_conv2 True (None, None, None, 512)\n",
      "block5_conv3 True (None, None, None, 512)\n",
      "block5_pool True (None, None, None, 512)\n",
      "global_average_pooling2d True (None, 512)\n",
      "dense True (None, 1024)\n",
      "dense_1 True (None, 4)\n"
     ]
    }
   ],
   "source": [
    "# Get the list of trainable layers in the model\n",
    "trainable_layers = [layer for layer in model.layers if layer.trainable]\n",
    "\n",
    "# Print the summary of trainable layers only\n",
    "print(\"Trainable layers summary:\")\n",
    "for layer in trainable_layers:\n",
    "    print(layer.name, layer.trainable, layer.output_shape)\n"
   ]
  },
  {
   "cell_type": "code",
   "execution_count": null,
   "id": "9bc42527",
   "metadata": {
    "id": "88MLMxuQ4IXY",
    "papermill": {
     "duration": 1.212259,
     "end_time": "2023-04-09T05:09:07.654300",
     "exception": false,
     "start_time": "2023-04-09T05:09:06.442041",
     "status": "completed"
    },
    "tags": []
   },
   "outputs": [],
   "source": []
  }
 ],
 "metadata": {
  "kernelspec": {
   "display_name": "Python 3",
   "language": "python",
   "name": "python3"
  },
  "language_info": {
   "codemirror_mode": {
    "name": "ipython",
    "version": 3
   },
   "file_extension": ".py",
   "mimetype": "text/x-python",
   "name": "python",
   "nbconvert_exporter": "python",
   "pygments_lexer": "ipython3",
   "version": "3.7.12"
  },
  "papermill": {
   "default_parameters": {},
   "duration": 3069.318658,
   "end_time": "2023-04-09T05:09:12.524266",
   "environment_variables": {},
   "exception": null,
   "input_path": "__notebook__.ipynb",
   "output_path": "__notebook__.ipynb",
   "parameters": {},
   "start_time": "2023-04-09T04:18:03.205608",
   "version": "2.4.0"
  }
 },
 "nbformat": 4,
 "nbformat_minor": 5
}
